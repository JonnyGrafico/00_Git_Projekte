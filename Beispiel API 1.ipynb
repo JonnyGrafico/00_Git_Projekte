{
 "cells": [
  {
   "cell_type": "code",
   "execution_count": 1,
   "metadata": {},
   "outputs": [],
   "source": [
    "import requests"
   ]
  },
  {
   "cell_type": "code",
   "execution_count": 37,
   "metadata": {},
   "outputs": [
    {
     "data": {
      "text/plain": [
       "9691"
      ]
     },
     "execution_count": 37,
     "metadata": {},
     "output_type": "execute_result"
    }
   ],
   "source": [
    "# mit json Zahl ausgeben\n",
    "requests.get(\"https://earthquake.usgs.gov/fdsnws/event/1/count?starttime=2018-09-01&endtime=2018-09-30\").json()"
   ]
  },
  {
   "cell_type": "code",
   "execution_count": 36,
   "metadata": {},
   "outputs": [
    {
     "name": "stdout",
     "output_type": "stream",
     "text": [
      "10861\n",
      "11135\n",
      "10622\n",
      "10297\n",
      "14364\n",
      "24798\n",
      "28015\n",
      "16213\n",
      "9983\n",
      "105\n",
      "0\n",
      "0\n"
     ]
    }
   ],
   "source": [
    "#Das Ganze in einzelnen Schritten\n",
    "\n",
    "basisurl = \"https://earthquake.usgs.gov/fdsnws/event/1/\"\n",
    "\n",
    "\n",
    "# liste zeigt das starttime \n",
    "liste = [\"2018-01-01\", \"2018-02-01\", \"2018-03-01\", \"2018-04-01\", \"2018-05-01\", \"2018-06-01\",\n",
    "        \"2018-07-01\", \"2018-08-01\", \"2018-09-01\", \"2018-10-01\", \"2018-11-01\", \"2018-12-01\"]\n",
    "\n",
    "# liste zeigt endtime\n",
    "liste2 = [\"2018-01-31\", \"2018-02-31\", \"2018-03-31\",\"2018-04-31\", \"2018-05-31\", \"2018-06-31\",\n",
    "         \"2018-07-31\", \"2018-08-31\", \"2018-09-31\", \"2018-10-31\", \"2018-11-31\", \"2018-12-31\"]\n",
    "\n",
    "\n",
    "\n",
    "basisurl = \"https://earthquake.usgs.gov/fdsnws/event/1/\"\n",
    "\n",
    "was = \"count?\" # zählt\n",
    "\n",
    "\"starttime=2018-01-01&endtime=2018-01-30\"\n",
    "for date, date2 in zip(liste, liste2):\n",
    "    \n",
    "    count = requests.get(basisurl+was+\"starttime=\"+date+\"&endtime=\"+date2)\n",
    "    print(count.json())\n"
   ]
  },
  {
   "cell_type": "code",
   "execution_count": null,
   "metadata": {},
   "outputs": [],
   "source": []
  },
  {
   "cell_type": "code",
   "execution_count": null,
   "metadata": {},
   "outputs": [],
   "source": []
  },
  {
   "cell_type": "code",
   "execution_count": null,
   "metadata": {},
   "outputs": [],
   "source": []
  },
  {
   "cell_type": "code",
   "execution_count": null,
   "metadata": {},
   "outputs": [],
   "source": []
  },
  {
   "cell_type": "code",
   "execution_count": null,
   "metadata": {},
   "outputs": [],
   "source": []
  }
 ],
 "metadata": {
  "kernelspec": {
   "display_name": "Python 3",
   "language": "python",
   "name": "python3"
  },
  "language_info": {
   "codemirror_mode": {
    "name": "ipython",
    "version": 3
   },
   "file_extension": ".py",
   "mimetype": "text/x-python",
   "name": "python",
   "nbconvert_exporter": "python",
   "pygments_lexer": "ipython3",
   "version": "3.6.6"
  }
 },
 "nbformat": 4,
 "nbformat_minor": 2
}
