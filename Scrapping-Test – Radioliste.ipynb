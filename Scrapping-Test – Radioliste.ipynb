{
 "cells": [
  {
   "cell_type": "code",
   "execution_count": 1,
   "metadata": {},
   "outputs": [],
   "source": [
    "# importiert Requests\n",
    "# installiert die Library BeautifulSoup – saugt Daten aus html!\n",
    "# installiert Pandas\n",
    "\n",
    "import requests\n",
    "from bs4 import BeautifulSoup\n",
    "import pandas as pd"
   ]
  },
  {
   "cell_type": "code",
   "execution_count": 45,
   "metadata": {},
   "outputs": [],
   "source": [
    "radioliste = requests.get('https://www.bakom.admin.ch/bakom/de/home/elektronische-medien/informationen-ueber-radio-und-fernsehveranstalter/radio-lokal-regional.html')\n",
    "radioliste = requests.get(url, headers=headers)\n",
    "radioliste = BeautifulSoup(radioliste.text, 'html.parser')    "
   ]
  },
  {
   "cell_type": "code",
   "execution_count": 46,
   "metadata": {},
   "outputs": [
    {
     "data": {
      "text/plain": [
       "'/bakom/de/home/elektronische-medien/informationen-ueber-radio-und-fernsehveranstalter/radio-lokal-regional.exturl.html/aHR0cHM6Ly93d3cuYmFrb21saXZlLmFkbWluLmNoL3RoZW1lbi/9yYWRpb190di9tYXJrdHVlYmVyc2ljaHQvcmFkaW9fbG9rYWwv/aW5kZXguaHRtbD9sYW5nPWRlJk9JRD00Ng==.html'"
      ]
     },
     "execution_count": 46,
     "metadata": {},
     "output_type": "execute_result"
    }
   ],
   "source": [
    "radioliste.find_all('tr')[1].find('td').find('a')['href']"
   ]
  },
  {
   "cell_type": "code",
   "execution_count": 50,
   "metadata": {},
   "outputs": [
    {
     "data": {
      "text/plain": [
       "'Radio Argovia (bis 30.6.2018)'"
      ]
     },
     "execution_count": 50,
     "metadata": {},
     "output_type": "execute_result"
    }
   ],
   "source": [
    "radioliste.find_all('tr')[6].find('td').find('a').text"
   ]
  },
  {
   "cell_type": "code",
   "execution_count": null,
   "metadata": {},
   "outputs": [],
   "source": [
    "radioliste.find_all('tr')[1].find('td').find('a')['href']"
   ]
  },
  {
   "cell_type": "code",
   "execution_count": null,
   "metadata": {},
   "outputs": [],
   "source": []
  }
 ],
 "metadata": {
  "kernelspec": {
   "display_name": "Python 3",
   "language": "python",
   "name": "python3"
  },
  "language_info": {
   "codemirror_mode": {
    "name": "ipython",
    "version": 3
   },
   "file_extension": ".py",
   "mimetype": "text/x-python",
   "name": "python",
   "nbconvert_exporter": "python",
   "pygments_lexer": "ipython3",
   "version": "3.6.6"
  }
 },
 "nbformat": 4,
 "nbformat_minor": 2
}
