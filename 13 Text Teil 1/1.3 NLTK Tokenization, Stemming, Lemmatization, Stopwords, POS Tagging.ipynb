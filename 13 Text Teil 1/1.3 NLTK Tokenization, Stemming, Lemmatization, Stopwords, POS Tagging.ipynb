{
 "cells": [
  {
   "cell_type": "markdown",
   "metadata": {},
   "source": [
    "## Agenda"
   ]
  },
  {
   "cell_type": "markdown",
   "metadata": {},
   "source": [
    "- Tokenization\n",
    "- Stemming\n",
    "- Lemmatization\n",
    "    - Pattern\n",
    "    - TextBlob\n",
    "- POS Tagging\n",
    "    - Pattern\n",
    "    - TextBlob\n",
    "- Stop Word removal"
   ]
  },
  {
   "cell_type": "markdown",
   "metadata": {},
   "source": [
    "## Tokenizer\n",
    "- Wie splittet man einfach einen Satz in Wörter auf?\n",
    "- https://www.admin.ch/opc/de/classified-compilation/19995395/index.html#a8"
   ]
  },
  {
   "cell_type": "code",
   "execution_count": 19,
   "metadata": {},
   "outputs": [],
   "source": [
    "import nltk\n",
    "from nltk.tokenize import word_tokenize"
   ]
  },
  {
   "cell_type": "code",
   "execution_count": 20,
   "metadata": {},
   "outputs": [],
   "source": [
    "verfassung = '''\n",
    "Im Namen Gottes des Allmächtigen!\n",
    "\n",
    "Das Schweizervolk und die Kantone,\n",
    "\n",
    "in der Verantwortung gegenüber der Schöpfung,\n",
    "\n",
    "im Bestreben, den Bund zu erneuern, um Freiheit und Demokratie, Unabhängigkeit und Frieden in Solidarität und Offenheit gegenüber der Welt zu stärken,\n",
    "\n",
    "im Willen, in gegenseitiger Rücksichtnahme und Achtung ihre Vielfalt in der Einheit zu leben,\n",
    "\n",
    "im Bewusstsein der gemeinsamen Errungenschaften und der Verantwortung gegenüber den künftigen Generationen,\n",
    "\n",
    "gewiss, dass frei nur ist, wer seine Freiheit gebraucht, und dass die Stärke des Volkes sich misst am Wohl der Schwachen,\n",
    "\n",
    "geben sich folgende Verfassung:\n",
    "'''"
   ]
  },
  {
   "cell_type": "code",
   "execution_count": 21,
   "metadata": {},
   "outputs": [],
   "source": [
    "# verfassung = verfassung.decode('utf-8')\n",
    "# verfassung"
   ]
  },
  {
   "cell_type": "markdown",
   "metadata": {},
   "source": [
    "### In einzelne Wörter + Zeichen"
   ]
  },
  {
   "cell_type": "code",
   "execution_count": 22,
   "metadata": {},
   "outputs": [
    {
     "data": {
      "text/plain": [
       "['Im',\n",
       " 'Namen',\n",
       " 'Gottes',\n",
       " 'des',\n",
       " 'Allmächtigen',\n",
       " '!',\n",
       " 'Das',\n",
       " 'Schweizervolk',\n",
       " 'und',\n",
       " 'die']"
      ]
     },
     "execution_count": 22,
     "metadata": {},
     "output_type": "execute_result"
    }
   ],
   "source": [
    "tokens = nltk.word_tokenize(verfassung)\n",
    "tokens[0:10]"
   ]
  },
  {
   "cell_type": "markdown",
   "metadata": {},
   "source": [
    "### In Wörter"
   ]
  },
  {
   "cell_type": "code",
   "execution_count": 23,
   "metadata": {},
   "outputs": [
    {
     "data": {
      "text/plain": [
       "['im',\n",
       " 'namen',\n",
       " 'gottes',\n",
       " 'des',\n",
       " 'allmächtigen',\n",
       " 'das',\n",
       " 'schweizervolk',\n",
       " 'und',\n",
       " 'die',\n",
       " 'kantone',\n",
       " 'in',\n",
       " 'der',\n",
       " 'verantwortung',\n",
       " 'gegenüber',\n",
       " 'der',\n",
       " 'schöpfung',\n",
       " 'im',\n",
       " 'bestreben',\n",
       " 'den',\n",
       " 'bund']"
      ]
     },
     "execution_count": 23,
     "metadata": {},
     "output_type": "execute_result"
    }
   ],
   "source": [
    "from nltk.tokenize import word_tokenize\n",
    "words = word_tokenize(verfassung)\n",
    "words=[word.lower() for word in words if word.isalpha()]\n",
    "words[0:20]"
   ]
  },
  {
   "cell_type": "markdown",
   "metadata": {},
   "source": [
    "### Hier noch ein paar praktische Python funktionen wie isalpha\n",
    "\n",
    "|  s.startswith(t) | test if s starts with t |\n",
    "|  ------ | ------ |\n",
    "|  s.endswith(t) | test if s ends with t |\n",
    "|  t in s | test if t is a substring of s |\n",
    "|  s.islower() | test if s contains cased characters and all are lowercase |\n",
    "|  s.isupper() | test if s contains cased characters and all are uppercase |\n",
    "|  s.isalpha() | test if s is non-empty and all characters in s are alphabetic |\n",
    "|  s.isalnum() | test if s is non-empty and all characters in s are alphanumeric |\n",
    "|  s.isdigit() | test if s is non-empty and all characters in s are digits |\n",
    "|  s.istitle() | test if s contains cased characters and is titlecased (i.e. all words in s have initial capitals) |"
   ]
  },
  {
   "cell_type": "markdown",
   "metadata": {},
   "source": [
    "### In Sätze"
   ]
  },
  {
   "cell_type": "code",
   "execution_count": 24,
   "metadata": {},
   "outputs": [
    {
     "data": {
      "text/plain": [
       "['\\nIm Namen Gottes des Allmächtigen!',\n",
       " 'Das Schweizervolk und die Kantone,\\n\\nin der Verantwortung gegenüber der Schöpfung,\\n\\nim Bestreben, den Bund zu erneuern, um Freiheit und Demokratie, Unabhängigkeit und Frieden in Solidarität und Offenheit gegenüber der Welt zu stärken,\\n\\nim Willen, in gegenseitiger Rücksichtnahme und Achtung ihre Vielfalt in der Einheit zu leben,\\n\\nim Bewusstsein der gemeinsamen Errungenschaften und der Verantwortung gegenüber den künftigen Generationen,\\n\\ngewiss, dass frei nur ist, wer seine Freiheit gebraucht, und dass die Stärke des Volkes sich misst am Wohl der Schwachen,\\n\\ngeben sich folgende Verfassung:']"
      ]
     },
     "execution_count": 24,
     "metadata": {},
     "output_type": "execute_result"
    }
   ],
   "source": [
    "from nltk.tokenize import sent_tokenize\n",
    "sentences = sent_tokenize(verfassung)\n",
    "sentences"
   ]
  },
  {
   "cell_type": "markdown",
   "metadata": {},
   "source": [
    "## Stemming\n",
    "- d.h. das überführen von Wörtern in den gleichen Stamm. \n",
    "- Übliche Probleme die Sprache so mit sich bringt:\n",
    "    - Deklination: gehe, gehst, gehen, geht, ... es handelt sich um das gleiche Wort. \n",
    "    - Plural, Groß/Kleinschreibung: katze, katzen, Katze ... es handelt sich auch um das gleiche Wort. "
   ]
  },
  {
   "cell_type": "code",
   "execution_count": 25,
   "metadata": {},
   "outputs": [],
   "source": [
    "porter = nltk.PorterStemmer()\n",
    "lancaster = nltk.LancasterStemmer()"
   ]
  },
  {
   "cell_type": "markdown",
   "metadata": {},
   "source": [
    "### Porter stemmer\n",
    "- geht ganz ok für Englisch\n",
    "- https://de.wikipedia.org/wiki/Porter-Stemmer-Algorithmus"
   ]
  },
  {
   "cell_type": "code",
   "execution_count": 26,
   "metadata": {},
   "outputs": [
    {
     "data": {
      "text/plain": [
       "['Universal',\n",
       " 'Declaration',\n",
       " 'of',\n",
       " 'Human',\n",
       " 'Rights',\n",
       " 'Preamble',\n",
       " 'Whereas',\n",
       " 'recognition',\n",
       " 'of',\n",
       " 'the',\n",
       " 'inherent',\n",
       " 'dignity',\n",
       " 'and',\n",
       " 'of',\n",
       " 'the',\n",
       " 'equal',\n",
       " 'and',\n",
       " 'inalienable',\n",
       " 'rights',\n",
       " 'of']"
      ]
     },
     "execution_count": 26,
     "metadata": {},
     "output_type": "execute_result"
    }
   ],
   "source": [
    "from nltk.corpus import udhr\n",
    "engl_words = udhr.words(\"English-Latin1\")\n",
    "engl_words[0:20]"
   ]
  },
  {
   "cell_type": "code",
   "execution_count": 27,
   "metadata": {},
   "outputs": [
    {
     "data": {
      "text/plain": [
       "['univers',\n",
       " 'declar',\n",
       " 'of',\n",
       " 'human',\n",
       " 'right',\n",
       " 'preambl',\n",
       " 'wherea',\n",
       " 'recognit',\n",
       " 'of',\n",
       " 'the',\n",
       " 'inher',\n",
       " 'digniti',\n",
       " 'and',\n",
       " 'of',\n",
       " 'the',\n",
       " 'equal',\n",
       " 'and',\n",
       " 'inalien',\n",
       " 'right',\n",
       " 'of']"
      ]
     },
     "execution_count": 27,
     "metadata": {},
     "output_type": "execute_result"
    }
   ],
   "source": [
    "[porter.stem(w) for w in engl_words][0:20]"
   ]
  },
  {
   "cell_type": "markdown",
   "metadata": {},
   "source": [
    "### Lancaster Stemmer\n",
    "- kommt zu leicht anderen \"stämmen\"\n",
    "- funktioniert nicht so gut für deutsch"
   ]
  },
  {
   "cell_type": "code",
   "execution_count": 28,
   "metadata": {},
   "outputs": [
    {
     "data": {
      "text/plain": [
       "['univers',\n",
       " 'decl',\n",
       " 'of',\n",
       " 'hum',\n",
       " 'right',\n",
       " 'preambl',\n",
       " 'wherea',\n",
       " 'recognit',\n",
       " 'of',\n",
       " 'the',\n",
       " 'inh',\n",
       " 'dign',\n",
       " 'and',\n",
       " 'of',\n",
       " 'the',\n",
       " 'eq',\n",
       " 'and',\n",
       " 'ina',\n",
       " 'right',\n",
       " 'of']"
      ]
     },
     "execution_count": 28,
     "metadata": {},
     "output_type": "execute_result"
    }
   ],
   "source": [
    "[lancaster.stem(w) for w in engl_words][0:20]"
   ]
  },
  {
   "cell_type": "markdown",
   "metadata": {},
   "source": [
    "### Snowball stemmer\n",
    "- Geht gut für deusch\n",
    "- http://snowball.tartarus.org/algorithms/german/stemmer.html"
   ]
  },
  {
   "cell_type": "code",
   "execution_count": 29,
   "metadata": {},
   "outputs": [],
   "source": [
    "snowball = nltk.stem.snowball.GermanStemmer()"
   ]
  },
  {
   "cell_type": "code",
   "execution_count": 30,
   "metadata": {},
   "outputs": [
    {
     "data": {
      "text/plain": [
       "['im',\n",
       " 'nam',\n",
       " 'gott',\n",
       " 'des',\n",
       " 'allmacht',\n",
       " 'das',\n",
       " 'schweizervolk',\n",
       " 'und',\n",
       " 'die',\n",
       " 'kanton',\n",
       " 'in',\n",
       " 'der',\n",
       " 'verantwort',\n",
       " 'gegenub',\n",
       " 'der',\n",
       " 'schopfung',\n",
       " 'im',\n",
       " 'bestreb',\n",
       " 'den',\n",
       " 'bund']"
      ]
     },
     "execution_count": 30,
     "metadata": {},
     "output_type": "execute_result"
    }
   ],
   "source": [
    "[snowball.stem(w) for w in words][0:20]"
   ]
  },
  {
   "cell_type": "markdown",
   "metadata": {},
   "source": [
    "## Lemmatizer\n",
    "- Zurückführen des Textes zu \"Wörterbuchdefinitionen\""
   ]
  },
  {
   "cell_type": "code",
   "execution_count": 31,
   "metadata": {},
   "outputs": [],
   "source": [
    "text = \"Women in technology areas are amazing at coding. Especially one woman is great, her name is Ursula Burns.\"\n",
    "words = word_tokenize(text)\n",
    "words_engl =[word.lower() for word in words if word.isalpha()]"
   ]
  },
  {
   "cell_type": "code",
   "execution_count": 32,
   "metadata": {},
   "outputs": [
    {
     "name": "stderr",
     "output_type": "stream",
     "text": [
      "[nltk_data] Downloading package wordnet to\n",
      "[nltk_data]     /Users/jonnygrafico/nltk_data...\n",
      "[nltk_data]   Package wordnet is already up-to-date!\n"
     ]
    },
    {
     "data": {
      "text/plain": [
       "['woman',\n",
       " 'in',\n",
       " 'technology',\n",
       " 'area',\n",
       " 'are',\n",
       " 'amazing',\n",
       " 'at',\n",
       " 'coding',\n",
       " 'especially',\n",
       " 'one']"
      ]
     },
     "execution_count": 32,
     "metadata": {},
     "output_type": "execute_result"
    }
   ],
   "source": [
    "nltk.download('wordnet')\n",
    "from nltk import WordNetLemmatizer\n",
    "\n",
    "lemma = nltk.WordNetLemmatizer() \n",
    "lemmas = [lemma.lemmatize(i) for i in words_engl]\n",
    "lemmas[0:10]"
   ]
  },
  {
   "cell_type": "markdown",
   "metadata": {},
   "source": [
    "### Lematizer Deutsch NLTK\n",
    "- Geht leider nicht für deusch :( in nltk"
   ]
  },
  {
   "cell_type": "code",
   "execution_count": 33,
   "metadata": {},
   "outputs": [],
   "source": [
    "party_text = '''\n",
    "Kurz vor 22.00 Uhr sind Polizisten der Stadtpolizei in alle Richtungen aber vor allem in Richtung Kreis 9 ausgerückt. Grund war eine Meldung zu einer privaten Party an der Aargauerstrasse, die angeblich ausser Kontrolle geraten sei. \n",
    "'''\n",
    "party_text = party_text\n",
    "words = word_tokenize(party_text)\n",
    "words_german =[word.lower() for word in words if word.isalpha()]"
   ]
  },
  {
   "cell_type": "code",
   "execution_count": 34,
   "metadata": {},
   "outputs": [
    {
     "data": {
      "text/plain": [
       "['kurz',\n",
       " 'vor',\n",
       " 'uhr',\n",
       " 'sind',\n",
       " 'polizisten',\n",
       " 'der',\n",
       " 'stadtpolizei',\n",
       " 'in',\n",
       " 'alle',\n",
       " 'richtungen',\n",
       " 'aber',\n",
       " 'vor',\n",
       " 'allem',\n",
       " 'in',\n",
       " 'richtung',\n",
       " 'kreis',\n",
       " 'ausgerückt',\n",
       " 'grund',\n",
       " 'war',\n",
       " 'eine']"
      ]
     },
     "execution_count": 34,
     "metadata": {},
     "output_type": "execute_result"
    }
   ],
   "source": [
    "lemma = nltk.WordNetLemmatizer() \n",
    "lemmas = [lemma.lemmatize(i) for i in words_german]\n",
    "lemmas[0:20]"
   ]
  },
  {
   "cell_type": "markdown",
   "metadata": {},
   "source": [
    "## Lemmatizer in Pattern\n",
    "- Ähnlich wie NLTK funktioniert aber auch für deutsch\n",
    "- https://www.clips.uantwerpen.be/pattern\n",
    "- ```pip install pattern```\n",
    "- Deutsche modelle kommen übrigens von der Uni Zürich https://www.zora.uzh.ch/id/eprint/28579/"
   ]
  },
  {
   "cell_type": "code",
   "execution_count": 35,
   "metadata": {},
   "outputs": [],
   "source": [
    "from pattern.de import parse"
   ]
  },
  {
   "cell_type": "code",
   "execution_count": 57,
   "metadata": {},
   "outputs": [
    {
     "data": {
      "text/plain": [
       "'Richtungen/JJ/B-NP/O/O/richtung Richtung/NN/I-NP/O/O/richtung ././O/O/O/.'"
      ]
     },
     "execution_count": 57,
     "metadata": {},
     "output_type": "execute_result"
    }
   ],
   "source": [
    "text = \"Richtungen Richtung.\"\n",
    "s = parse(text, relations=True, lemmata=True)\n",
    "s"
   ]
  },
  {
   "cell_type": "code",
   "execution_count": 58,
   "metadata": {},
   "outputs": [
    {
     "data": {
      "text/plain": [
       "['kurz',\n",
       " 'vor',\n",
       " '22.00',\n",
       " 'uhr',\n",
       " 'sein',\n",
       " 'polizist',\n",
       " 'der',\n",
       " 'stadtpolizei',\n",
       " 'in',\n",
       " 'all',\n",
       " 'richtungen',\n",
       " 'aber',\n",
       " 'vor',\n",
       " 'in',\n",
       " 'richtung',\n",
       " 'kreis',\n",
       " '9',\n",
       " 'ausgerückt',\n",
       " 'grund',\n",
       " 'sein']"
      ]
     },
     "execution_count": 58,
     "metadata": {},
     "output_type": "execute_result"
    }
   ],
   "source": [
    "lemmata = []\n",
    "from pattern.de import parsetree\n",
    "s = parsetree(party_text,relations=True, lemmata=True) \n",
    "for sentence in s: \n",
    "    for chunk in sentence.chunks:\n",
    "        for word in chunk.words:\n",
    "            #print(\"%s (%s)\" %(word,word.lemma))\n",
    "            lemmata.append(word.lemma)\n",
    "lemmata[0:20]"
   ]
  },
  {
   "cell_type": "markdown",
   "metadata": {},
   "source": [
    "## Lemmatizer in Textblob\n",
    " - https://textblob.readthedocs.io/en/dev/quickstart.html\n",
    " - ```pip install -U textblob-de```\n",
    " - https://github.com/markuskiller/textblob-de"
   ]
  },
  {
   "cell_type": "code",
   "execution_count": 59,
   "metadata": {},
   "outputs": [
    {
     "data": {
      "text/plain": [
       "['kurz',\n",
       " 'vor',\n",
       " '22.00',\n",
       " 'Uhr',\n",
       " 'sein',\n",
       " 'Polizist',\n",
       " 'der',\n",
       " 'Stadtpolizei',\n",
       " 'in',\n",
       " 'all',\n",
       " 'Richtungen',\n",
       " 'aber',\n",
       " 'vor',\n",
       " 'all',\n",
       " 'in',\n",
       " 'Richtung',\n",
       " 'Kreis',\n",
       " '9',\n",
       " 'ausgerückt',\n",
       " 'Grund']"
      ]
     },
     "execution_count": 59,
     "metadata": {},
     "output_type": "execute_result"
    }
   ],
   "source": [
    "from textblob_de import TextBlobDE\n",
    "from textblob_de import PatternParser\n",
    "blob = TextBlobDE(party_text, parser=PatternParser(pprint=False, lemmata=True))\n",
    "blob.parse()\n",
    "list(blob.words.lemmatize())[0:20]"
   ]
  },
  {
   "cell_type": "markdown",
   "metadata": {},
   "source": [
    "## POS Tagging (Part of Speech Tagging)\n",
    "- Ich bin nur interessiert an substantiven oder adjektiven oder verben. \n",
    "- Wie kann ich nur diese filtern? \n",
    "- Funktioniert für Deutsch nicht auf Anhieb in NLTK :(\n",
    "- aber gut in pattern und textblob"
   ]
  },
  {
   "cell_type": "markdown",
   "metadata": {},
   "source": [
    "## Übersicht\n",
    "https://www.clips.uantwerpen.be/pages/mbsp-tags\n",
    "\n",
    "|  Tag | Description | Example |\n",
    "|  ------ | ------ | ------ |\n",
    "|  **CC** | conjunction, coordinating | and, or, but |\n",
    "|  **CD** | cardinal number | five, three, 13% |\n",
    "|  **DT** | determiner | the, a, these |\n",
    "|  **EX** | existential there | there were six boys |\n",
    "|  **FW** | foreign word | mais |\n",
    "|  **IN** | conjunction, subordinating or preposition | of, on, before, unless |\n",
    "|  **JJ** | adjective | nice, easy |\n",
    "|  **JJR** | adjective, comparative | nicer, easier |\n",
    "|  **JJS** | adjective, superlative | nicest, easiest |\n",
    "|  **LS** | list item marker |  |\n",
    "|  **MD** | verb, modal auxillary | may, should |\n",
    "|  **NN** | noun, singular or mass | tiger, chair, laughter |\n",
    "|  **NNS** | noun, plural | tigers, chairs, insects |\n",
    "|  **NNP** | noun, proper singular | Germany, God, Alice |\n",
    "|  **NNPS** | noun, proper plural | we met two Christmases ago |\n",
    "|  **PDT** | predeterminer | both his children |\n",
    "|  **POS** | possessive ending | s |\n",
    "|  **PRP** | pronoun, personal | me, you, it |\n",
    "|  **PRP** | pronoun, possessive | my, your, our |\n",
    "|  **RB** | adverb | extremely, loudly, hard |\n",
    "|  **RBR** | adverb, comparative | better |\n",
    "|  **RBS** | adverb, superlative | best |\n",
    "|  **RP** | adverb, particle | about, off, up |\n",
    "|  **SYM** | symbol | % |\n",
    "|  **TO** | infinitival to | what to do? |\n",
    "|  **UH** | interjection | oh, oops, gosh |\n",
    "|  **VB** | verb, base form | think |\n",
    "|  **VBZ** | verb, 3rd person singular present | she thinks |\n",
    "|  **VBP** | verb, non-3rd person singular present | I think |\n",
    "|  **VBD** | verb, past tense | they thought |\n",
    "|  **VBN** | verb, past participle | a sunken ship |\n",
    "|  **VBG** | verb, gerund or present participle | thinking is fun |\n",
    "|  **WDT** | wh-determiner | which, whatever, whichever |\n",
    "|  **WP** | wh-pronoun, personal | what, who, whom |\n",
    "|  **WP** | wh-pronoun, possessive | whose, whosever |\n",
    "|  **WRB** | wh-adverb | where, when |\n",
    "|  **.** | punctuation mark, sentence closer | .;?* |\n",
    "|  **,** | punctuation mark, comma | , |\n",
    "|  **:** | punctuation mark, colon | : |\n",
    "|  **(** | contextual separator, left paren | ( |\n",
    "|  **)** | contextual separator, right paren | ) |"
   ]
  },
  {
   "cell_type": "markdown",
   "metadata": {},
   "source": [
    "### POS Tags in pattern"
   ]
  },
  {
   "cell_type": "code",
   "execution_count": 60,
   "metadata": {},
   "outputs": [],
   "source": [
    "verben = []\n",
    "substantive = []\n",
    "adjektive = []\n",
    "from pattern.de import parsetree\n",
    "s = parsetree(party_text,relations=True, lemmata=True) \n",
    "for sentence in s: \n",
    "    for chunk in sentence.chunks:\n",
    "        for word in chunk.words:\n",
    "            if \"V\" in word.type:\n",
    "                verben.append(word)\n",
    "            if \"NN\" in word.type:\n",
    "                substantive.append(word)\n",
    "            if \"J\" in word.type:\n",
    "                adjektive.append(word)"
   ]
  },
  {
   "cell_type": "code",
   "execution_count": 61,
   "metadata": {},
   "outputs": [
    {
     "data": {
      "text/plain": [
       "[Word('sind/VB'), Word('war/VB'), Word('geraten/VBN'), Word('sei/VB')]"
      ]
     },
     "execution_count": 61,
     "metadata": {},
     "output_type": "execute_result"
    }
   ],
   "source": [
    "verben"
   ]
  },
  {
   "cell_type": "code",
   "execution_count": 62,
   "metadata": {},
   "outputs": [
    {
     "data": {
      "text/plain": [
       "[Word('Uhr/NN'),\n",
       " Word('Polizisten/NNS'),\n",
       " Word('Stadtpolizei/NN'),\n",
       " Word('Richtungen/NN'),\n",
       " Word('Richtung/NN'),\n",
       " Word('Kreis/NN'),\n",
       " Word('ausgerückt/NN'),\n",
       " Word('Meldung/NN'),\n",
       " Word('Party/NN'),\n",
       " Word('Aargauerstrasse/NNP'),\n",
       " Word('Kontrolle/NN')]"
      ]
     },
     "execution_count": 62,
     "metadata": {},
     "output_type": "execute_result"
    }
   ],
   "source": [
    "substantive"
   ]
  },
  {
   "cell_type": "code",
   "execution_count": 63,
   "metadata": {},
   "outputs": [
    {
     "data": {
      "text/plain": [
       "[Word('Kurz/JJ'), Word('alle/JJ'), Word('privaten/JJ'), Word('angeblich/JJ')]"
      ]
     },
     "execution_count": 63,
     "metadata": {},
     "output_type": "execute_result"
    }
   ],
   "source": [
    "adjektive"
   ]
  },
  {
   "cell_type": "markdown",
   "metadata": {},
   "source": [
    "### POS tags in textblob"
   ]
  },
  {
   "cell_type": "code",
   "execution_count": 64,
   "metadata": {},
   "outputs": [],
   "source": [
    "substantive = []\n",
    "adjektive = []\n",
    "verben = []\n",
    "blob = TextBlobDE(party_text, parser=PatternParser(pprint=False, lemmata=True))\n",
    "for word in blob.tags:\n",
    "    if \"NN\" in word[1]:\n",
    "        substantive.append(word[0])\n",
    "    if \"V\" in word[1]:\n",
    "        verben.append(word[0])\n",
    "    if \"JJ\" in word[1]:\n",
    "        adjektive.append(word[0])"
   ]
  },
  {
   "cell_type": "code",
   "execution_count": 65,
   "metadata": {},
   "outputs": [
    {
     "data": {
      "text/plain": [
       "['Uhr',\n",
       " 'Polizisten',\n",
       " 'Stadtpolizei',\n",
       " 'Richtungen',\n",
       " 'Richtung',\n",
       " 'Kreis',\n",
       " 'ausgerückt',\n",
       " 'Grund',\n",
       " 'Meldung',\n",
       " 'Party',\n",
       " 'Aargauerstrasse',\n",
       " 'Kontrolle']"
      ]
     },
     "execution_count": 65,
     "metadata": {},
     "output_type": "execute_result"
    }
   ],
   "source": [
    "substantive"
   ]
  },
  {
   "cell_type": "code",
   "execution_count": 66,
   "metadata": {},
   "outputs": [
    {
     "data": {
      "text/plain": [
       "['Kurz', 'alle', 'privaten', 'angeblich']"
      ]
     },
     "execution_count": 66,
     "metadata": {},
     "output_type": "execute_result"
    }
   ],
   "source": [
    "adjektive"
   ]
  },
  {
   "cell_type": "code",
   "execution_count": 67,
   "metadata": {},
   "outputs": [
    {
     "data": {
      "text/plain": [
       "['sind', 'war', 'geraten', 'sei']"
      ]
     },
     "execution_count": 67,
     "metadata": {},
     "output_type": "execute_result"
    }
   ],
   "source": [
    "verben"
   ]
  },
  {
   "cell_type": "markdown",
   "metadata": {},
   "source": [
    "## Stop word removal\n"
   ]
  },
  {
   "cell_type": "code",
   "execution_count": 68,
   "metadata": {},
   "outputs": [
    {
     "name": "stderr",
     "output_type": "stream",
     "text": [
      "[nltk_data] Downloading package stopwords to\n",
      "[nltk_data]     /Users/jonnygrafico/nltk_data...\n",
      "[nltk_data]   Package stopwords is already up-to-date!\n"
     ]
    }
   ],
   "source": [
    "nltk.download('stopwords')\n",
    "from nltk.corpus import stopwords"
   ]
  },
  {
   "cell_type": "markdown",
   "metadata": {},
   "source": [
    "### Englisch"
   ]
  },
  {
   "cell_type": "code",
   "execution_count": 69,
   "metadata": {},
   "outputs": [
    {
     "data": {
      "text/plain": [
       "['i', 'me', 'my', 'myself', 'we', 'our', 'ours', 'ourselves', 'you', \"you're\"]"
      ]
     },
     "execution_count": 69,
     "metadata": {},
     "output_type": "execute_result"
    }
   ],
   "source": [
    "stopwords.words('english')[0:10]"
   ]
  },
  {
   "cell_type": "code",
   "execution_count": 70,
   "metadata": {},
   "outputs": [
    {
     "data": {
      "text/plain": [
       "['women',\n",
       " 'technology',\n",
       " 'areas',\n",
       " 'amazing',\n",
       " 'coding',\n",
       " 'especially',\n",
       " 'one',\n",
       " 'woman',\n",
       " 'great',\n",
       " 'name',\n",
       " 'ursula',\n",
       " 'burns']"
      ]
     },
     "execution_count": 70,
     "metadata": {},
     "output_type": "execute_result"
    }
   ],
   "source": [
    "filtered_words = [word for word in words_engl if word not in stopwords.words('english')]\n",
    "filtered_words"
   ]
  },
  {
   "cell_type": "markdown",
   "metadata": {},
   "source": [
    "### Deutsch"
   ]
  },
  {
   "cell_type": "code",
   "execution_count": 71,
   "metadata": {},
   "outputs": [
    {
     "data": {
      "text/plain": [
       "['aber', 'alle', 'allem', 'allen', 'aller', 'alles', 'als', 'also', 'am', 'an']"
      ]
     },
     "execution_count": 71,
     "metadata": {},
     "output_type": "execute_result"
    }
   ],
   "source": [
    "stopwords.words('german')[0:10]"
   ]
  },
  {
   "cell_type": "code",
   "execution_count": 72,
   "metadata": {},
   "outputs": [
    {
     "data": {
      "text/plain": [
       "['allgemeine',\n",
       " 'erklärung',\n",
       " 'menschenrechte',\n",
       " 'resolution',\n",
       " 'a',\n",
       " 'iii',\n",
       " 'präambel',\n",
       " 'anerkennung',\n",
       " 'angeborenen',\n",
       " 'gleichen',\n",
       " 'unveräußerlichen',\n",
       " 'rechte',\n",
       " 'mitglieder',\n",
       " 'gemeinschaft',\n",
       " 'menschen',\n",
       " 'grundlage',\n",
       " 'freiheit',\n",
       " 'gerechtigkeit',\n",
       " 'frieden',\n",
       " 'welt',\n",
       " 'bildet',\n",
       " 'nichtanerkennung',\n",
       " 'verachtung',\n",
       " 'menschenrechte',\n",
       " 'akten',\n",
       " 'barbarei',\n",
       " 'geführt',\n",
       " 'gewissen',\n",
       " 'menschheit',\n",
       " 'empörung',\n",
       " 'erfüllen',\n",
       " 'verkündet',\n",
       " 'worden',\n",
       " 'welt',\n",
       " 'menschen',\n",
       " 'rede',\n",
       " 'glaubensfreiheit',\n",
       " 'freiheit',\n",
       " 'furcht',\n",
       " 'not',\n",
       " 'genießen',\n",
       " 'höchste',\n",
       " 'streben',\n",
       " 'menschen',\n",
       " 'gilt',\n",
       " 'notwendig',\n",
       " 'menschenrechte',\n",
       " 'herrschaft',\n",
       " 'rechtes',\n",
       " 'schützen',\n",
       " 'mensch',\n",
       " 'gezwungen',\n",
       " 'letztes',\n",
       " 'mittel',\n",
       " 'aufstand',\n",
       " 'tyrannei',\n",
       " 'unterdrückung',\n",
       " 'greifen',\n",
       " 'notwendig',\n",
       " 'entwicklung',\n",
       " 'freundschaftlicher',\n",
       " 'beziehungen',\n",
       " 'nationen',\n",
       " 'fördern',\n",
       " 'völker',\n",
       " 'vereinten',\n",
       " 'nationen',\n",
       " 'charta',\n",
       " 'glauben',\n",
       " 'grundlegenden',\n",
       " 'menschenrechte',\n",
       " 'wert',\n",
       " 'menschlichen',\n",
       " 'person',\n",
       " 'gleichberechtigung',\n",
       " 'mann',\n",
       " 'frau',\n",
       " 'erneut',\n",
       " 'bekräftigt',\n",
       " 'beschlossen',\n",
       " 'sozialen',\n",
       " 'forschritt',\n",
       " 'bessere',\n",
       " 'lebensbedingungen',\n",
       " 'größerer',\n",
       " 'freiheit',\n",
       " 'fördern',\n",
       " 'mitgliedstaaten',\n",
       " 'verpflichtet',\n",
       " 'zusammenarbeit',\n",
       " 'vereinten',\n",
       " 'nationen',\n",
       " 'allgemeine',\n",
       " 'achtung',\n",
       " 'einhaltung',\n",
       " 'menschenrechte',\n",
       " 'grundfreiheiten',\n",
       " 'hinzuwirken',\n",
       " 'gemeinsames',\n",
       " 'verständnis',\n",
       " 'rechte',\n",
       " 'freiheiten',\n",
       " 'größter',\n",
       " 'wichtigkeit',\n",
       " 'volle',\n",
       " 'erfüllung',\n",
       " 'verpflichtung',\n",
       " 'verkündet',\n",
       " 'generalversammlung',\n",
       " 'allgemeine',\n",
       " 'erklärung',\n",
       " 'menschenrechte',\n",
       " 'völkern',\n",
       " 'nationen',\n",
       " 'erreichende',\n",
       " 'gemeinsame',\n",
       " 'ideal',\n",
       " 'einzelne',\n",
       " 'organe',\n",
       " 'gesellschaft',\n",
       " 'erklärung',\n",
       " 'stets',\n",
       " 'gegenwärtig',\n",
       " 'halten',\n",
       " 'bemühen',\n",
       " 'unterricht',\n",
       " 'erziehung',\n",
       " 'achtung',\n",
       " 'rechten',\n",
       " 'freiheiten',\n",
       " 'fördern',\n",
       " 'fortschreitende',\n",
       " 'nationale',\n",
       " 'internationale',\n",
       " 'maßnahmen',\n",
       " 'allgemeine',\n",
       " 'tatsächliche',\n",
       " 'anerkennung',\n",
       " 'einhaltung',\n",
       " 'bevölkerung',\n",
       " 'mitgliedstaaten',\n",
       " 'bevölkerung',\n",
       " 'hoheitsgewalt',\n",
       " 'unterstehenden',\n",
       " 'gebiete',\n",
       " 'gewährleisten',\n",
       " 'artikel',\n",
       " 'menschen',\n",
       " 'frei',\n",
       " 'gleich',\n",
       " 'rechten',\n",
       " 'geboren',\n",
       " 'vernunft',\n",
       " 'gewissen',\n",
       " 'begabt',\n",
       " 'sollen',\n",
       " 'einander',\n",
       " 'geist',\n",
       " 'brüderlichkeit',\n",
       " 'begegnen',\n",
       " 'artikel',\n",
       " 'anspruch',\n",
       " 'erklärung',\n",
       " 'verkündeten',\n",
       " 'rechte',\n",
       " 'freiheiten',\n",
       " 'irgendeinen',\n",
       " 'unterschied',\n",
       " 'etwa',\n",
       " 'rasse',\n",
       " 'hautfarbe',\n",
       " 'geschlecht',\n",
       " 'sprache',\n",
       " 'religion',\n",
       " 'politischer',\n",
       " 'sonstiger',\n",
       " 'überzeugung',\n",
       " 'nationaler',\n",
       " 'sozialer',\n",
       " 'herkunft',\n",
       " 'vermögen',\n",
       " 'geburt',\n",
       " 'sonstigem',\n",
       " 'stand',\n",
       " 'weiteren',\n",
       " 'darf',\n",
       " 'unterschied',\n",
       " 'gemacht',\n",
       " 'grund',\n",
       " 'politischen',\n",
       " 'rechtlichen',\n",
       " 'internationalen',\n",
       " 'stellung',\n",
       " 'landes',\n",
       " 'gebiets',\n",
       " 'person',\n",
       " 'angehört',\n",
       " 'gleichgültig',\n",
       " 'unabhängig',\n",
       " 'treuhandschaft',\n",
       " 'steht',\n",
       " 'selbstregierung',\n",
       " 'besitzt',\n",
       " 'souveränität',\n",
       " 'eingeschränkt',\n",
       " 'artikel',\n",
       " 'recht',\n",
       " 'leben',\n",
       " 'freiheit',\n",
       " 'sicherheit',\n",
       " 'person',\n",
       " 'artikel',\n",
       " 'niemand',\n",
       " 'darf',\n",
       " 'sklaverei',\n",
       " 'leibeigenschaft',\n",
       " 'gehalten',\n",
       " 'sklaverei',\n",
       " 'sklavenhandel',\n",
       " 'formen',\n",
       " 'verboten',\n",
       " 'artikel',\n",
       " 'niemand',\n",
       " 'darf',\n",
       " 'folter',\n",
       " 'grausamer',\n",
       " 'unmenschlicher',\n",
       " 'erniedrigender',\n",
       " 'behandlung',\n",
       " 'strafe',\n",
       " 'unterworfen',\n",
       " 'artikel',\n",
       " 'recht',\n",
       " 'überall',\n",
       " 'rechtsfähig',\n",
       " 'anerkannt',\n",
       " 'artikel',\n",
       " 'menschen',\n",
       " 'gesetz',\n",
       " 'gleich',\n",
       " 'unterschied',\n",
       " 'anspruch',\n",
       " 'gleichen',\n",
       " 'schutz',\n",
       " 'gesetz',\n",
       " 'anspruch',\n",
       " 'gleichen',\n",
       " 'schutz',\n",
       " 'diskriminierung',\n",
       " 'erklärung',\n",
       " 'verstößt',\n",
       " 'aufhetzung',\n",
       " 'derartigen',\n",
       " 'diskriminierung',\n",
       " 'artikel',\n",
       " 'anspruch',\n",
       " 'wirksamen',\n",
       " 'rechtsbehelf',\n",
       " 'zuständigen',\n",
       " 'innerstaatlichen',\n",
       " 'gerichten',\n",
       " 'handlungen',\n",
       " 'verfassung',\n",
       " 'gesetz',\n",
       " 'zustehenen',\n",
       " 'grundrechte',\n",
       " 'verletzt',\n",
       " 'artikel',\n",
       " 'niemand',\n",
       " 'darf',\n",
       " 'willkürlich',\n",
       " 'festgenommen',\n",
       " 'haft',\n",
       " 'gehalten',\n",
       " 'landes',\n",
       " 'verwiesen',\n",
       " 'artikel',\n",
       " 'feststellung',\n",
       " 'rechte',\n",
       " 'pflichten',\n",
       " 'sowie',\n",
       " 'erhobenen',\n",
       " 'strafrechtlichen',\n",
       " 'beschuldigung',\n",
       " 'voller',\n",
       " 'gleichheit',\n",
       " 'anspruch',\n",
       " 'gerechtes',\n",
       " 'öffentliches',\n",
       " 'verfahren',\n",
       " 'unabhängigen',\n",
       " 'unparteiischen',\n",
       " 'gericht',\n",
       " 'artikel',\n",
       " 'wegen',\n",
       " 'strafbaren',\n",
       " 'handlung',\n",
       " 'beschuldigt',\n",
       " 'recht',\n",
       " 'unschuldig',\n",
       " 'gelten',\n",
       " 'solange',\n",
       " 'schuld',\n",
       " 'öffentlichen',\n",
       " 'verfahren',\n",
       " 'verteidigung',\n",
       " 'notwendigen',\n",
       " 'garantien',\n",
       " 'gehabt',\n",
       " 'gemäß',\n",
       " 'gesetz',\n",
       " 'nachgewiesen',\n",
       " 'niemand',\n",
       " 'darf',\n",
       " 'wegen',\n",
       " 'handlung',\n",
       " 'unterlassung',\n",
       " 'verurteilt',\n",
       " 'zeit',\n",
       " 'begehung',\n",
       " 'innerstaatlichem',\n",
       " 'internationalem',\n",
       " 'recht',\n",
       " 'strafbar',\n",
       " 'ebenso',\n",
       " 'darf',\n",
       " 'schwerere',\n",
       " 'strafe',\n",
       " 'zeitpunkt',\n",
       " 'begehung',\n",
       " 'strafbaren',\n",
       " 'handlung',\n",
       " 'angedrohte',\n",
       " 'strafe',\n",
       " 'verhängt',\n",
       " 'artikel',\n",
       " 'niemand',\n",
       " 'darf',\n",
       " 'willkürlichen',\n",
       " 'eingriffen',\n",
       " 'privatleben',\n",
       " 'familie',\n",
       " 'wohnung',\n",
       " 'schriftverkehr',\n",
       " 'beeinträchtigungen',\n",
       " 'ehre',\n",
       " 'rufes',\n",
       " 'ausgesetzt',\n",
       " 'anspruch',\n",
       " 'rechtlichen',\n",
       " 'schutz',\n",
       " 'eingriffe',\n",
       " 'beeinträchtigungen',\n",
       " 'artikel',\n",
       " 'recht',\n",
       " 'innerhalb',\n",
       " 'staates',\n",
       " 'frei',\n",
       " 'bewegen',\n",
       " 'aufenthaltsort',\n",
       " 'frei',\n",
       " 'wählen',\n",
       " 'recht',\n",
       " 'land',\n",
       " 'einschließlich',\n",
       " 'eigenen',\n",
       " 'verlassen',\n",
       " 'land',\n",
       " 'zurückzukehren',\n",
       " 'artikel',\n",
       " 'recht',\n",
       " 'ländern',\n",
       " 'verfolgung',\n",
       " 'asyl',\n",
       " 'suchen',\n",
       " 'genießen',\n",
       " 'recht',\n",
       " 'anspruch',\n",
       " 'genommen',\n",
       " 'falle',\n",
       " 'strafverfolgung',\n",
       " 'tatsächlich',\n",
       " 'grund',\n",
       " 'verbrechen',\n",
       " 'nichtpolitischer',\n",
       " 'art',\n",
       " 'grund',\n",
       " 'handlungen',\n",
       " 'erfolgt',\n",
       " 'ziele',\n",
       " 'grundsätze',\n",
       " 'vereinten',\n",
       " 'nationen',\n",
       " 'verstoßen',\n",
       " 'artikel',\n",
       " 'recht',\n",
       " 'staatsangehörigkeit',\n",
       " 'niemandem',\n",
       " 'darf',\n",
       " 'staatsangehörigkeit',\n",
       " 'willkürlich',\n",
       " 'entzogen',\n",
       " 'recht',\n",
       " 'versagt',\n",
       " 'staatsanghörigkeit',\n",
       " 'wechseln',\n",
       " 'artikel',\n",
       " 'heiratsfähige',\n",
       " 'frauen',\n",
       " 'männer',\n",
       " 'beschränkung',\n",
       " 'grund',\n",
       " 'rasse',\n",
       " 'staatsangehörigkeit',\n",
       " 'religion',\n",
       " 'recht',\n",
       " 'heiraten',\n",
       " 'familie',\n",
       " 'gründen',\n",
       " 'eheschließung',\n",
       " 'ehe',\n",
       " 'deren',\n",
       " 'auflösung',\n",
       " 'gleiche',\n",
       " 'rechte',\n",
       " 'ehe',\n",
       " 'darf',\n",
       " 'freier',\n",
       " 'uneingeschränkter',\n",
       " 'willenseinigung',\n",
       " 'künftigen',\n",
       " 'ehegatten',\n",
       " 'geschlossen',\n",
       " 'familie',\n",
       " 'natürliche',\n",
       " 'grundeinheit',\n",
       " 'gesellschaft',\n",
       " 'anspruch',\n",
       " 'schutz',\n",
       " 'gesellschaft',\n",
       " 'staat',\n",
       " 'artikel',\n",
       " 'recht',\n",
       " 'sowohl',\n",
       " 'allein',\n",
       " 'gemeinschaft',\n",
       " 'eigentum',\n",
       " 'innezuhaben',\n",
       " 'niemand',\n",
       " 'darf',\n",
       " 'willkürlich',\n",
       " 'eigentums',\n",
       " 'beraubt',\n",
       " 'artikel',\n",
       " 'recht',\n",
       " 'gedanken',\n",
       " 'gewissens',\n",
       " 'religionsfreiheit',\n",
       " 'recht',\n",
       " 'schließt',\n",
       " 'freiheit',\n",
       " 'religion',\n",
       " 'überzeugung',\n",
       " 'wechseln',\n",
       " 'sowie',\n",
       " 'freiheit',\n",
       " 'religion',\n",
       " 'weltanschauung',\n",
       " 'allein',\n",
       " 'gemeinschaft',\n",
       " 'öffentlich',\n",
       " 'privat',\n",
       " 'lehre',\n",
       " 'ausübung',\n",
       " 'gottesdienst',\n",
       " 'kulthandlungen',\n",
       " 'bekennen',\n",
       " 'artikel',\n",
       " 'recht',\n",
       " 'meinungsfreiheit',\n",
       " 'freie',\n",
       " 'meinungsäußerung',\n",
       " 'recht',\n",
       " 'schließt',\n",
       " 'freiheit',\n",
       " 'meinungen',\n",
       " 'ungehindert',\n",
       " 'anzuhängen',\n",
       " 'sowie',\n",
       " 'medien',\n",
       " 'art',\n",
       " 'rücksicht',\n",
       " 'grenzen',\n",
       " 'informationen',\n",
       " 'gedankengut',\n",
       " 'suchen',\n",
       " 'empfangen',\n",
       " 'verbreiten',\n",
       " 'artikel',\n",
       " 'menschen',\n",
       " 'recht',\n",
       " 'friedlich',\n",
       " 'versammeln',\n",
       " 'vereinigungen',\n",
       " 'zusammenzuschließen',\n",
       " 'niemand',\n",
       " 'darf',\n",
       " 'gezwungen',\n",
       " 'vereinigung',\n",
       " 'anzugehören',\n",
       " 'artikel',\n",
       " 'recht',\n",
       " 'gestaltung',\n",
       " 'öffentlichen',\n",
       " 'angelegenheiten',\n",
       " 'landes',\n",
       " 'unmittelbar',\n",
       " 'frei',\n",
       " 'gewählte',\n",
       " 'vertreter',\n",
       " 'mitzuwirken',\n",
       " 'recht',\n",
       " 'gleichen',\n",
       " 'zugang',\n",
       " 'öffentlichen',\n",
       " 'ämtern',\n",
       " 'lande',\n",
       " 'wille',\n",
       " 'volkes',\n",
       " 'bildet',\n",
       " 'grundlage',\n",
       " 'autorität',\n",
       " 'öffentlichen',\n",
       " 'gewalt',\n",
       " 'wille',\n",
       " 'muß',\n",
       " 'regelmäßige',\n",
       " 'unverfälschte',\n",
       " 'allgemeine',\n",
       " 'gleiche',\n",
       " 'wahlen',\n",
       " 'geheimer',\n",
       " 'stimmabgabe',\n",
       " 'gleichwertigen',\n",
       " 'freien',\n",
       " 'wahlverfahren',\n",
       " 'ausdruck',\n",
       " 'kommen',\n",
       " 'artikel',\n",
       " 'mitglied',\n",
       " 'gesellschaft',\n",
       " 'recht',\n",
       " 'soziale',\n",
       " 'sicherheit',\n",
       " 'anspruch',\n",
       " 'darauf',\n",
       " 'innerstaatliche',\n",
       " 'maßnahmen',\n",
       " 'internationale',\n",
       " 'zusammenarbeit',\n",
       " 'sowie',\n",
       " 'berücksichtigung',\n",
       " 'organisation',\n",
       " 'mittel',\n",
       " 'staates',\n",
       " 'genuß',\n",
       " 'wirtschaftlichen',\n",
       " 'sozialen',\n",
       " 'kulturellen',\n",
       " 'rechte',\n",
       " 'gelangen',\n",
       " 'freie',\n",
       " 'entwicklung',\n",
       " 'persönlichkeit',\n",
       " 'unentbehrlich',\n",
       " 'artikel',\n",
       " 'recht',\n",
       " 'arbeit',\n",
       " 'freie',\n",
       " 'berufswahl',\n",
       " 'gerechte',\n",
       " 'befriedigende',\n",
       " 'arbeitsbedingungen',\n",
       " 'sowie',\n",
       " 'schutz',\n",
       " 'arbeitslosigkeit',\n",
       " 'unterschied',\n",
       " 'recht',\n",
       " 'gleichen',\n",
       " 'lohn',\n",
       " 'gleiche',\n",
       " 'arbeit',\n",
       " 'arbeitet',\n",
       " 'recht',\n",
       " 'gerechte',\n",
       " 'befriedigende',\n",
       " 'entlohnung',\n",
       " 'familie',\n",
       " 'menschlichen',\n",
       " 'entsprechende',\n",
       " 'existenz',\n",
       " 'sichert',\n",
       " 'gegebenenfalls',\n",
       " 'ergänzt',\n",
       " 'soziale',\n",
       " 'schutzmaßnahmen',\n",
       " 'recht',\n",
       " 'schutz',\n",
       " 'interessen',\n",
       " 'gewerkschaften',\n",
       " 'bilden',\n",
       " 'beizutreten',\n",
       " 'artikel',\n",
       " 'recht',\n",
       " 'erholung',\n",
       " 'freizeit',\n",
       " 'insbesondere',\n",
       " 'vernünftige',\n",
       " 'begrenzung',\n",
       " 'arbeitszeit',\n",
       " 'regelmäßigen',\n",
       " 'bezahlten',\n",
       " 'urlaub',\n",
       " 'artikel',\n",
       " 'recht',\n",
       " 'lebensstandard',\n",
       " 'familie',\n",
       " 'gesundheit',\n",
       " 'wohl',\n",
       " 'gewährleistet',\n",
       " 'einschließlich',\n",
       " 'nahrung',\n",
       " 'kleidung',\n",
       " 'wohnung',\n",
       " 'ärztliche',\n",
       " 'versorgung',\n",
       " 'notwendige',\n",
       " 'soziale',\n",
       " 'leistungen',\n",
       " 'gewährleistet',\n",
       " 'sowie',\n",
       " 'recht',\n",
       " 'sicherheit',\n",
       " 'falle',\n",
       " 'arbeitslosigkeit',\n",
       " 'krankheit',\n",
       " 'invalidität',\n",
       " 'verwitwung',\n",
       " 'alter',\n",
       " 'sowie',\n",
       " 'anderweitigem',\n",
       " 'verlust',\n",
       " 'unterhaltsmittel',\n",
       " 'unverschuldete',\n",
       " 'umstände',\n",
       " 'mütter',\n",
       " 'kinder',\n",
       " 'anspruch',\n",
       " 'besondere',\n",
       " 'fürsorge',\n",
       " 'unterstützung',\n",
       " 'kinder',\n",
       " 'eheliche',\n",
       " 'außereheliche',\n",
       " 'genießen',\n",
       " 'gleichen',\n",
       " 'sozialen',\n",
       " 'schutz',\n",
       " 'artikel',\n",
       " 'recht',\n",
       " 'bildung',\n",
       " 'bildung',\n",
       " 'unentgeltlich',\n",
       " 'mindesten',\n",
       " 'grundschulunterricht',\n",
       " 'grundlegende',\n",
       " 'bildung',\n",
       " 'grundschulunterricht',\n",
       " 'obligatorisch',\n",
       " 'fach',\n",
       " 'berufsschulunterricht',\n",
       " 'müssen',\n",
       " 'allgemein',\n",
       " 'verfügbar',\n",
       " 'gemacht',\n",
       " 'hochschulunterricht',\n",
       " 'muß']"
      ]
     },
     "execution_count": 72,
     "metadata": {},
     "output_type": "execute_result"
    }
   ],
   "source": [
    "filtered_words = [word for word in words_german if word not in stopwords.words('german')]\n",
    "filtered_words"
   ]
  },
  {
   "cell_type": "markdown",
   "metadata": {},
   "source": [
    "## Wordle 2.0"
   ]
  },
  {
   "cell_type": "markdown",
   "metadata": {},
   "source": [
    "- Tokenization\n",
    "- Lemmatization"
   ]
  },
  {
   "cell_type": "code",
   "execution_count": 52,
   "metadata": {},
   "outputs": [],
   "source": [
    "text = (\" \").join(udhr.words(\"German_Deutsch-Latin1\"))\n",
    "# tokenize and lemmatize\n",
    "blob = TextBlobDE(text, parser=PatternParser(pprint=False, lemmata=True))\n",
    "clean_blob = list(blob.words.lemmatize())"
   ]
  },
  {
   "cell_type": "markdown",
   "metadata": {},
   "source": [
    "- Numbers etc.. removal\n",
    "- Stop word removal"
   ]
  },
  {
   "cell_type": "code",
   "execution_count": 53,
   "metadata": {},
   "outputs": [
    {
     "data": {
      "text/plain": [
       "['allgemein',\n",
       " 'erklärung',\n",
       " 'menschenrecht',\n",
       " 'resolution',\n",
       " 'a',\n",
       " 'iii',\n",
       " 'präambel',\n",
       " 'anerkennung',\n",
       " 'angeborenen',\n",
       " 'gleich',\n",
       " 'unveräusserlich',\n",
       " 'rechte',\n",
       " 'all',\n",
       " 'mitglieder',\n",
       " 'gemeinschaft',\n",
       " 'menschen',\n",
       " 'grundlage',\n",
       " 'freiheit',\n",
       " 'gerechtigkeit',\n",
       " 'friede']"
      ]
     },
     "execution_count": 53,
     "metadata": {},
     "output_type": "execute_result"
    }
   ],
   "source": [
    "words_alpha =[word.lower() for word in clean_blob if word.isalpha()]\n",
    "stopwords = stopwords.words('german')\n",
    "stopwords.append(\"jed\")\n",
    "result = [word for word in words_alpha if word not in stopwords]\n",
    "result[0:20]"
   ]
  },
  {
   "cell_type": "code",
   "execution_count": 75,
   "metadata": {},
   "outputs": [],
   "source": [
    "text = (\" \").join(udhr.words(\"German_Deutsch-Latin1\"))\n",
    "\n",
    "# tokenize and lemmatize\n",
    "\n",
    "words = word_tokenize(text)\n",
    "\n",
    "words_german =[word.lower() for word in words if word.isalpha()]\n",
    "\n",
    "lemma = nltk.WordNetLemmatizer()\n",
    "\n",
    "lemmas = [lemma.lemmatize(i) for i in words_german]\n",
    "\n",
    "clean_blob = lemmas"
   ]
  },
  {
   "cell_type": "code",
   "execution_count": 76,
   "metadata": {},
   "outputs": [],
   "source": [
    "text = (\" \").join(result)"
   ]
  },
  {
   "cell_type": "code",
   "execution_count": 77,
   "metadata": {},
   "outputs": [
    {
     "data": {
      "image/png": "[encoded data removed]",
      "text/plain": [
       "<Figure size 1080x576 with 1 Axes>"
      ]
     },
     "metadata": {
      "needs_background": "light"
     },
     "output_type": "display_data"
    }
   ],
   "source": [
    "from wordcloud import WordCloud\n",
    "import matplotlib.pyplot as plt\n",
    "import numpy as np\n",
    "from PIL import Image\n",
    "import os\n",
    "from os import path\n",
    "d = path.dirname(__file__) if \"__file__\" in locals() else os.getcwd()\n",
    "\n",
    "maske = np.array(Image.open(path.join(d, \"maske.png\")))\n",
    "\n",
    "wc = WordCloud(background_color=\"white\", max_words=2000, mask=maske, contour_width=3, contour_color='steelblue')\n",
    "wc.generate(text)\n",
    "plt.figure(figsize=(15,8))\n",
    "plt.imshow(wc, interpolation=\"bilinear\")\n",
    "plt.axis(\"off\")\n",
    "plt.show()"
   ]
  },
  {
   "cell_type": "code",
   "execution_count": null,
   "metadata": {},
   "outputs": [],
   "source": []
  },
  {
   "cell_type": "code",
   "execution_count": null,
   "metadata": {},
   "outputs": [],
   "source": []
  },
  {
   "cell_type": "code",
   "execution_count": null,
   "metadata": {},
   "outputs": [],
   "source": []
  },
  {
   "cell_type": "code",
   "execution_count": null,
   "metadata": {},
   "outputs": [],
   "source": []
  }
 ],
 "metadata": {
  "kernelspec": {
   "display_name": "Python 3",
   "language": "python",
   "name": "python3"
  },
  "language_info": {
   "codemirror_mode": {
    "name": "ipython",
    "version": 3
   },
   "file_extension": ".py",
   "mimetype": "text/x-python",
   "name": "python",
   "nbconvert_exporter": "python",
   "pygments_lexer": "ipython3",
   "version": "3.7.0"
  }
 },
 "nbformat": 4,
 "nbformat_minor": 2
}
