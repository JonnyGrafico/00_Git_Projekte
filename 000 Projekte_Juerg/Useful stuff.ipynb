{
 "cells": [
  {
   "cell_type": "markdown",
   "metadata": {},
   "source": [
    "object in Datum umwandeln"
   ]
  },
  {
   "cell_type": "code",
   "execution_count": null,
   "metadata": {},
   "outputs": [],
   "source": [
    "df['seit'] = pd.to_datetime(['aeit'])"
   ]
  },
  {
   "cell_type": "code",
   "execution_count": null,
   "metadata": {},
   "outputs": [],
   "source": [
    "de['seit'] <'2017-02-01'"
   ]
  },
  {
   "cell_type": "code",
   "execution_count": null,
   "metadata": {},
   "outputs": [],
   "source": []
  },
  {
   "cell_type": "code",
   "execution_count": null,
   "metadata": {},
   "outputs": [],
   "source": []
  },
  {
   "cell_type": "markdown",
   "metadata": {},
   "source": [
    "# Beispiel von Ralf zum Läufer des NY-Marathon auszuwählen"
   ]
  },
  {
   "cell_type": "code",
   "execution_count": null,
   "metadata": {},
   "outputs": [],
   "source": [
    "driver = webdriver.Chrome()\n",
    "\n",
    "for i in range (3,50):\n",
    "\n",
    "    try:\n",
    "\n",
    "        search_url = \"https://results.nyrr.org/event/M2018/result/\"+str(i)\n",
    "\n",
    "        driver.get(search_url)\n",
    "\n",
    "        time.sleep(1)\n",
    "\n",
    "        text = driver.page_source\n",
    "\n",
    "        soup = BeautifulSoup(text, 'html.parser')\n",
    "\n",
    "        namensuppe = soup.find_all (\"div\",{\"class\": \"main-title ng-binding\"})\n",
    "\n",
    "        name = namensuppe[0]\n",
    "\n",
    "        name = name.text\n",
    "\n",
    "        alter = namensuppe[1]\n",
    "\n",
    "        alter = alter.text\n",
    "\n",
    "        alter = alter [12:13]\n",
    "\n",
    "        gender = namensuppe[1]\n",
    "\n",
    "        gender = gender.text\n",
    "\n",
    "        gender = alter[13:15]\n",
    "\n",
    "        zeiten = soup.find_all (\"span\",{\"class\": \"label-value ng-binding\"})\n",
    "\n",
    "    \n",
    "\n",
    "        print(zeiten[0])\n",
    "\n",
    "    except:\n",
    "        continue\n",
    "\n",
    "    #text bearbeiten.........\n",
    "\n",
    "driver.close()"
   ]
  },
  {
   "cell_type": "code",
   "execution_count": null,
   "metadata": {},
   "outputs": [],
   "source": []
  }
 ],
 "metadata": {
  "kernelspec": {
   "display_name": "Python 3",
   "language": "python",
   "name": "python3"
  },
  "language_info": {
   "codemirror_mode": {
    "name": "ipython",
    "version": 3
   },
   "file_extension": ".py",
   "mimetype": "text/x-python",
   "name": "python",
   "nbconvert_exporter": "python",
   "pygments_lexer": "ipython3",
   "version": "3.7.0"
  }
 },
 "nbformat": 4,
 "nbformat_minor": 2
}
