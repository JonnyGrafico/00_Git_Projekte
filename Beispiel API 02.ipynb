{
 "cells": [
  {
   "cell_type": "code",
   "execution_count": 6,
   "metadata": {},
   "outputs": [],
   "source": [
    "import requests"
   ]
  },
  {
   "cell_type": "code",
   "execution_count": 11,
   "metadata": {},
   "outputs": [
    {
     "data": {
      "text/plain": [
       "dict_keys(['name', 'type', 'features'])"
      ]
     },
     "execution_count": 11,
     "metadata": {},
     "output_type": "execute_result"
    }
   ],
   "source": [
    "r = requests.get(\"https://data.stadt-zuerich.ch/dataset/jugendtreff/resource/d42c2110-4bbd-4301-8455-1a02bc7e3efb/download/jugendtreff.json \")\n",
    "r = r.json()\n",
    "r.keys()"
   ]
  },
  {
   "cell_type": "code",
   "execution_count": 12,
   "metadata": {},
   "outputs": [
    {
     "data": {
      "text/plain": [
       "[{'type': 'Feature',\n",
       "  'geometry': {'type': 'Point',\n",
       "   'coordinates': [8.524515021659, 47.3796117950437]},\n",
       "  'properties': {'adresse': 'Magnusstrasse 5',\n",
       "   'name': 'Verein Jugendtreff Kreis 4',\n",
       "   'ort': 'Zürich',\n",
       "   'plz': '8004',\n",
       "   'tel': '+41 44 242 88 55',\n",
       "   'www': 'http://www.jugi4.ch'}},\n",
       " {'type': 'Feature',\n",
       "  'geometry': {'type': 'Point',\n",
       "   'coordinates': [8.48566694419171, 47.3887315734799]},\n",
       "  'properties': {'adresse': 'Segnesstrasse 6',\n",
       "   'name': 'OJA Kreis 9 & Hard',\n",
       "   'ort': 'Zürich',\n",
       "   'plz': '8048',\n",
       "   'tel': '+41 44 400 03 82',\n",
       "   'www': 'http://www.oja.ch/oja-einrichtungen/kreis9hard/index.html'}},\n",
       " {'type': 'Feature',\n",
       "  'geometry': {'type': 'Point',\n",
       "   'coordinates': [8.53043373446476, 47.3440866302432]},\n",
       "  'properties': {'adresse': 'Albisstrasse 40',\n",
       "   'name': 'OJA Wollishofen-Leimbach',\n",
       "   'ort': 'Zürich',\n",
       "   'plz': '8038',\n",
       "   'tel': '+41 43 243 11 49',\n",
       "   'www': 'http://www.oja.ch/oja-einrichtungen/woll.-leimbach/index.html'}},\n",
       " {'type': 'Feature',\n",
       "  'geometry': {'type': 'Point',\n",
       "   'coordinates': [8.53005366639396, 47.3875202649]},\n",
       "  'properties': {'adresse': 'Sihlquai 240',\n",
       "   'name': 'OJA Kreis 5/planet 5',\n",
       "   'ort': 'Zürich',\n",
       "   'plz': '8005',\n",
       "   'tel': '+41 44 278 10 70',\n",
       "   'www': 'http://www.oja.ch/oja-einrichtungen/kreis-5-planet5/index.html'}},\n",
       " {'type': 'Feature',\n",
       "  'geometry': {'type': 'Point',\n",
       "   'coordinates': [8.54104838917003, 47.3888640943919]},\n",
       "  'properties': {'adresse': 'Langmauerstrasse 7',\n",
       "   'name': 'OJA Kreis 6 & Wipkingen',\n",
       "   'ort': 'Zürich',\n",
       "   'plz': '8006',\n",
       "   'tel': '+41 44 363 19 84',\n",
       "   'www': 'http://www.oja.ch/oja-einrichtungen/kreis-6-wipkingen/index.html'}},\n",
       " {'type': 'Feature',\n",
       "  'geometry': {'type': 'Point',\n",
       "   'coordinates': [8.55057961072456, 47.4089127696436]},\n",
       "  'properties': {'adresse': 'Dörflistrasse 76',\n",
       "   'name': 'OJA Oerlikon',\n",
       "   'ort': 'Zürich',\n",
       "   'plz': '8050',\n",
       "   'tel': '+41 44 311 34 06',\n",
       "   'www': 'http://www.oja.ch/oja-einrichtungen/oerlikon/index.html'}},\n",
       " {'type': 'Feature',\n",
       "  'geometry': {'type': 'Point',\n",
       "   'coordinates': [8.57079476548228, 47.4036882643011]},\n",
       "  'properties': {'adresse': 'Winterthurerstrasse 504',\n",
       "   'name': 'OJA Schwamendingen',\n",
       "   'ort': 'Zürich',\n",
       "   'plz': '8051',\n",
       "   'tel': '+41 44 322 11 61',\n",
       "   'www': 'http://www.oja.ch/Schwamendingen'}},\n",
       " {'type': 'Feature',\n",
       "  'geometry': {'type': 'Point',\n",
       "   'coordinates': [8.52929206203019, 47.3930760602568]},\n",
       "  'properties': {'adresse': 'Dammstrasse 54',\n",
       "   'name': 'OJA Wipkingen',\n",
       "   'ort': 'Zürich',\n",
       "   'plz': '8037',\n",
       "   'tel': '+41 44 400 01 31',\n",
       "   'www': 'http://www.oja.ch/Wipkingen'}},\n",
       " {'type': 'Feature',\n",
       "  'geometry': {'type': 'Point',\n",
       "   'coordinates': [8.53942519565508, 47.3833835589542]},\n",
       "  'properties': {'adresse': 'Wasserwerkstrasse 21',\n",
       "   'name': 'Jugendkulturhaus Dynamo',\n",
       "   'ort': 'Zürich',\n",
       "   'plz': '8006',\n",
       "   'tel': '+41 44 415 76 60',\n",
       "   'www': 'http://www.dynamo.ch'}},\n",
       " {'type': 'Feature',\n",
       "  'geometry': {'type': 'Point',\n",
       "   'coordinates': [8.52763912286343, 47.3750128692355]},\n",
       "  'properties': {'adresse': 'Stauffacherstrasse 54',\n",
       "   'name': 'NetZ4',\n",
       "   'ort': 'Zürich',\n",
       "   'plz': '8004',\n",
       "   'tel': '+41 44 240 05 39',\n",
       "   'www': 'http://www.netz4.ch'}},\n",
       " {'type': 'Feature',\n",
       "  'geometry': {'type': 'Point',\n",
       "   'coordinates': [8.57012608751064, 47.4146673116909]},\n",
       "  'properties': {'adresse': 'Auzelg 50',\n",
       "   'name': 'Verein Jugendarbeit Auzelg (c/o Hort)',\n",
       "   'ort': 'Zürich',\n",
       "   'plz': '8050',\n",
       "   'tel': '+41 44 321 60 45',\n",
       "   'www': 'http://www.stadt-zuerich.ch/content/mobile/stzh/de/poi/kontakt_informationen/poi_erweitert.html?poiid=jt001'}},\n",
       " {'type': 'Feature',\n",
       "  'geometry': {'type': 'Point',\n",
       "   'coordinates': [8.52343753311739, 47.3722189414156]},\n",
       "  'properties': {'adresse': 'Zweierstrasse 61',\n",
       "   'name': 'OJA Kreis 3 & 4',\n",
       "   'ort': 'Zürich',\n",
       "   'plz': '8004',\n",
       "   'tel': '+41 44 299 30 21',\n",
       "   'www': 'http://www.oja.ch/oja-einrichtungen/kreis3-4/index.html'}},\n",
       " {'type': 'Feature',\n",
       "  'geometry': {'type': 'Point',\n",
       "   'coordinates': [8.51683443703654, 47.4123627330821]},\n",
       "  'properties': {'adresse': 'Glaubtenstrasse 27',\n",
       "   'name': 'OJA Affoltern',\n",
       "   'ort': 'Zürich',\n",
       "   'plz': '8046',\n",
       "   'tel': '+41 44 372 10 84',\n",
       "   'www': 'http://www.oja.ch/oja-einrichtungen/affoltern/index.html'}}]"
      ]
     },
     "execution_count": 12,
     "metadata": {},
     "output_type": "execute_result"
    }
   ],
   "source": [
    "r['features']"
   ]
  },
  {
   "cell_type": "code",
   "execution_count": null,
   "metadata": {},
   "outputs": [],
   "source": []
  },
  {
   "cell_type": "code",
   "execution_count": null,
   "metadata": {},
   "outputs": [],
   "source": []
  },
  {
   "cell_type": "code",
   "execution_count": null,
   "metadata": {},
   "outputs": [],
   "source": []
  }
 ],
 "metadata": {
  "kernelspec": {
   "display_name": "Python 3",
   "language": "python",
   "name": "python3"
  },
  "language_info": {
   "codemirror_mode": {
    "name": "ipython",
    "version": 3
   },
   "file_extension": ".py",
   "mimetype": "text/x-python",
   "name": "python",
   "nbconvert_exporter": "python",
   "pygments_lexer": "ipython3",
   "version": "3.6.6"
  }
 },
 "nbformat": 4,
 "nbformat_minor": 2
}
