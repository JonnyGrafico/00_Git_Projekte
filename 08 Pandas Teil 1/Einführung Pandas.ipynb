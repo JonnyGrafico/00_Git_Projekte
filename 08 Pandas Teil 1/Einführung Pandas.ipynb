{
 "cells": [
  {
   "cell_type": "markdown",
   "metadata": {},
   "source": [
    "# Einführung Pandas"
   ]
  },
  {
   "cell_type": "markdown",
   "metadata": {},
   "source": [
    "**Inhalt:** Ein Streifzug durch die Möglichkeiten von Pandas\n",
    "\n",
    "**Nötige skills**: Keine\n",
    "\n",
    "**Lerniziele**:\n",
    "- Übersicht erhalten: Nur schauen, nicht selber programmieren\n",
    "- Anhand eines konkreten Beispiels einen Workflow beobachten\n",
    "- Erkennen, welche Arten von Operationen und Outputs Pandas hat"
   ]
  },
  {
   "cell_type": "markdown",
   "metadata": {},
   "source": [
    "### Was ist Pandas?\n",
    "Kurz gesagt: Pandas ist Excel für Python.\n",
    "\n",
    "Das Modul ermöglicht ähnliche Operationen wie ein Tabellenkalkulationsprogramm, aber\n",
    "- in Logbuchform statt als Tabellenblatt\n",
    "- mit reproduzierbarem Code\n",
    "- viel mehr Funktionalität\n",
    "- kombinierbar mit anderen Modulen\n",
    "\n",
    "Ohne Pandas (fast) kein Datenjournalismus mit Python."
   ]
  },
  {
   "cell_type": "markdown",
   "metadata": {},
   "source": [
    "### Installation\n",
    "Command line: `pip install pandas`\n",
    "\n",
    "...\n",
    "\n",
    "...\n",
    "\n",
    "... und wenn das alles geklappt hat:"
   ]
  },
  {
   "cell_type": "code",
   "execution_count": 4,
   "metadata": {},
   "outputs": [],
   "source": [
    "import pandas as pd"
   ]
  },
  {
   "cell_type": "code",
   "execution_count": 5,
   "metadata": {},
   "outputs": [],
   "source": [
    "%matplotlib inline"
   ]
  },
  {
   "cell_type": "code",
   "execution_count": 6,
   "metadata": {},
   "outputs": [
    {
     "name": "stdout",
     "output_type": "stream",
     "text": [
      "Hooray!\n"
     ]
    }
   ],
   "source": [
    "print (\"Hooray!\")"
   ]
  },
  {
   "cell_type": "markdown",
   "metadata": {},
   "source": [
    "# Das Beispiel"
   ]
  },
  {
   "cell_type": "markdown",
   "metadata": {},
   "source": [
    "Eine Datenbank zu allen militärischen Auseinandersetzungen zwischen 1816 und 2010.\n",
    "\n",
    "Quelle: http://cow.dss.ucdavis.edu/data-sets/MIDs"
   ]
  },
  {
   "cell_type": "markdown",
   "metadata": {},
   "source": [
    "## Datenfile öffnen"
   ]
  },
  {
   "cell_type": "markdown",
   "metadata": {},
   "source": [
    "Der notwendige Start vor jeder Datenanalyse."
   ]
  },
  {
   "cell_type": "code",
   "execution_count": 7,
   "metadata": {},
   "outputs": [],
   "source": [
    "df = pd.read_csv('dataprojects/military-interventions/MID-level/MIDB_4.2.csv')"
   ]
  },
  {
   "cell_type": "markdown",
   "metadata": {},
   "source": [
    "## Basic exploration"
   ]
  },
  {
   "cell_type": "markdown",
   "metadata": {},
   "source": [
    "Die Grösse und Struktur der Datenbank: Sollte beim öffnen jedes Files zuerst einmal grob angeschaut werden."
   ]
  },
  {
   "cell_type": "markdown",
   "metadata": {},
   "source": [
    "### Wie viele Einträge hat die Datenbank?"
   ]
  },
  {
   "cell_type": "code",
   "execution_count": 8,
   "metadata": {},
   "outputs": [
    {
     "data": {
      "text/plain": [
       "(5511, 23)"
      ]
     },
     "execution_count": 8,
     "metadata": {},
     "output_type": "execute_result"
    }
   ],
   "source": [
    "df.shape"
   ]
  },
  {
   "cell_type": "markdown",
   "metadata": {},
   "source": [
    "### Was für Datenfelder kommen darin vor?"
   ]
  },
  {
   "cell_type": "code",
   "execution_count": 9,
   "metadata": {},
   "outputs": [
    {
     "data": {
      "text/plain": [
       "dispnum3       int64\n",
       "dispnum4       int64\n",
       "stabb         object\n",
       "ccode          int64\n",
       "stday          int64\n",
       "stmon          int64\n",
       "styear         int64\n",
       "endday         int64\n",
       "endmon         int64\n",
       "endyear        int64\n",
       "sidea          int64\n",
       "revstate       int64\n",
       "revtype1       int64\n",
       "revtype2       int64\n",
       "fatality       int64\n",
       "fatalpre       int64\n",
       "hiact          int64\n",
       "hostlev        int64\n",
       "orig           int64\n",
       "version      float64\n",
       "changes_1      int64\n",
       "changes_2      int64\n",
       "changes_3      int64\n",
       "dtype: object"
      ]
     },
     "execution_count": 9,
     "metadata": {},
     "output_type": "execute_result"
    }
   ],
   "source": [
    "df.dtypes"
   ]
  },
  {
   "cell_type": "markdown",
   "metadata": {},
   "source": [
    "Für Details zu den Codes, check:\n",
    "\n",
    "`dataprojects/Military Interventions/MID-level/MID_v4.0_Codebook.pdf`"
   ]
  },
  {
   "cell_type": "markdown",
   "metadata": {},
   "source": [
    "### Wie muss man sich die Einträge in dieser Tabelle ungefähr vorstellen?"
   ]
  },
  {
   "cell_type": "code",
   "execution_count": 11,
   "metadata": {},
   "outputs": [
    {
     "data": {
      "text/html": [
       "<div>\n",
       "<style scoped>\n",
       "    .dataframe tbody tr th:only-of-type {\n",
       "        vertical-align: middle;\n",
       "    }\n",
       "\n",
       "    .dataframe tbody tr th {\n",
       "        vertical-align: top;\n",
       "    }\n",
       "\n",
       "    .dataframe thead th {\n",
       "        text-align: right;\n",
       "    }\n",
       "</style>\n",
       "<table border=\"1\" class=\"dataframe\">\n",
       "  <thead>\n",
       "    <tr style=\"text-align: right;\">\n",
       "      <th></th>\n",
       "      <th>dispnum3</th>\n",
       "      <th>dispnum4</th>\n",
       "      <th>stabb</th>\n",
       "      <th>ccode</th>\n",
       "      <th>stday</th>\n",
       "      <th>stmon</th>\n",
       "      <th>styear</th>\n",
       "      <th>endday</th>\n",
       "      <th>endmon</th>\n",
       "      <th>endyear</th>\n",
       "      <th>...</th>\n",
       "      <th>revtype2</th>\n",
       "      <th>fatality</th>\n",
       "      <th>fatalpre</th>\n",
       "      <th>hiact</th>\n",
       "      <th>hostlev</th>\n",
       "      <th>orig</th>\n",
       "      <th>version</th>\n",
       "      <th>changes_1</th>\n",
       "      <th>changes_2</th>\n",
       "      <th>changes_3</th>\n",
       "    </tr>\n",
       "  </thead>\n",
       "  <tbody>\n",
       "    <tr>\n",
       "      <th>0</th>\n",
       "      <td>2</td>\n",
       "      <td>-9</td>\n",
       "      <td>UKG</td>\n",
       "      <td>200</td>\n",
       "      <td>-9</td>\n",
       "      <td>7</td>\n",
       "      <td>1902</td>\n",
       "      <td>24</td>\n",
       "      <td>1</td>\n",
       "      <td>1903</td>\n",
       "      <td>...</td>\n",
       "      <td>-9</td>\n",
       "      <td>0</td>\n",
       "      <td>0</td>\n",
       "      <td>0</td>\n",
       "      <td>1</td>\n",
       "      <td>1</td>\n",
       "      <td>4.2</td>\n",
       "      <td>0</td>\n",
       "      <td>0</td>\n",
       "      <td>0</td>\n",
       "    </tr>\n",
       "    <tr>\n",
       "      <th>1</th>\n",
       "      <td>2</td>\n",
       "      <td>-9</td>\n",
       "      <td>USA</td>\n",
       "      <td>2</td>\n",
       "      <td>-9</td>\n",
       "      <td>7</td>\n",
       "      <td>1902</td>\n",
       "      <td>24</td>\n",
       "      <td>1</td>\n",
       "      <td>1903</td>\n",
       "      <td>...</td>\n",
       "      <td>-9</td>\n",
       "      <td>0</td>\n",
       "      <td>0</td>\n",
       "      <td>7</td>\n",
       "      <td>3</td>\n",
       "      <td>1</td>\n",
       "      <td>4.2</td>\n",
       "      <td>0</td>\n",
       "      <td>0</td>\n",
       "      <td>0</td>\n",
       "    </tr>\n",
       "    <tr>\n",
       "      <th>2</th>\n",
       "      <td>3</td>\n",
       "      <td>-9</td>\n",
       "      <td>YUG</td>\n",
       "      <td>345</td>\n",
       "      <td>2</td>\n",
       "      <td>5</td>\n",
       "      <td>1913</td>\n",
       "      <td>25</td>\n",
       "      <td>10</td>\n",
       "      <td>1913</td>\n",
       "      <td>...</td>\n",
       "      <td>-9</td>\n",
       "      <td>0</td>\n",
       "      <td>0</td>\n",
       "      <td>0</td>\n",
       "      <td>1</td>\n",
       "      <td>1</td>\n",
       "      <td>4.2</td>\n",
       "      <td>0</td>\n",
       "      <td>0</td>\n",
       "      <td>0</td>\n",
       "    </tr>\n",
       "  </tbody>\n",
       "</table>\n",
       "<p>3 rows × 23 columns</p>\n",
       "</div>"
      ],
      "text/plain": [
       "   dispnum3  dispnum4 stabb  ccode  stday  stmon  styear  endday  endmon  \\\n",
       "0         2        -9   UKG    200     -9      7    1902      24       1   \n",
       "1         2        -9   USA      2     -9      7    1902      24       1   \n",
       "2         3        -9   YUG    345      2      5    1913      25      10   \n",
       "\n",
       "   endyear    ...      revtype2  fatality  fatalpre  hiact  hostlev  orig  \\\n",
       "0     1903    ...            -9         0         0      0        1     1   \n",
       "1     1903    ...            -9         0         0      7        3     1   \n",
       "2     1913    ...            -9         0         0      0        1     1   \n",
       "\n",
       "   version  changes_1  changes_2  changes_3  \n",
       "0      4.2          0          0          0  \n",
       "1      4.2          0          0          0  \n",
       "2      4.2          0          0          0  \n",
       "\n",
       "[3 rows x 23 columns]"
      ]
     },
     "execution_count": 11,
     "metadata": {},
     "output_type": "execute_result"
    }
   ],
   "source": [
    "df.head(3)"
   ]
  },
  {
   "cell_type": "markdown",
   "metadata": {},
   "source": [
    "## Spontane Fragen"
   ]
  },
  {
   "cell_type": "markdown",
   "metadata": {},
   "source": [
    "Die ersten Dinge, die einem zum Thema militärische Auseinandersetzungen in den Sinn kommen.\n",
    "\n",
    "Mit Pandas lassen sie sich relativ rasch beantworten, falls die Daten bereits gut aufbereitet, vollständig und ohne viele Codierfehler da sind."
   ]
  },
  {
   "cell_type": "markdown",
   "metadata": {},
   "source": [
    "### Welche Länder haben am meisten militärische Auseinandersetzungen teilgenommen?"
   ]
  },
  {
   "cell_type": "code",
   "execution_count": 12,
   "metadata": {},
   "outputs": [
    {
     "data": {
      "text/plain": [
       "USA    321\n",
       "USR    256\n",
       "UKG    239\n",
       "CHN    218\n",
       "FRN    165\n",
       "GMY    163\n",
       "TUR    161\n",
       "JPN    151\n",
       "IRN    151\n",
       "ITA    119\n",
       "Name: stabb, dtype: int64"
      ]
     },
     "execution_count": 12,
     "metadata": {},
     "output_type": "execute_result"
    }
   ],
   "source": [
    "df.stabb.value_counts().head(10)"
   ]
  },
  {
   "cell_type": "code",
   "execution_count": 14,
   "metadata": {},
   "outputs": [
    {
     "data": {
      "text/plain": [
       "<matplotlib.axes._subplots.AxesSubplot at 0x1187d20f0>"
      ]
     },
     "execution_count": 14,
     "metadata": {},
     "output_type": "execute_result"
    },
    {
     "data": {
      "image/png": "[encoded data removed]",
      "text/plain": [
       "<Figure size 432x288 with 1 Axes>"
      ]
     },
     "metadata": {},
     "output_type": "display_data"
    }
   ],
   "source": [
    "df.stabb.value_counts().head(20).plot(kind='bar')"
   ]
  },
  {
   "cell_type": "markdown",
   "metadata": {},
   "source": [
    "### Zu welcher Zeit gab es am meisten Konflikte?"
   ]
  },
  {
   "cell_type": "code",
   "execution_count": 15,
   "metadata": {},
   "outputs": [
    {
     "data": {
      "text/plain": [
       "<matplotlib.axes._subplots.AxesSubplot at 0x1188c76a0>"
      ]
     },
     "execution_count": 15,
     "metadata": {},
     "output_type": "execute_result"
    },
    {
     "data": {
      "image/png": "[encoded data removed]",
      "text/plain": [
       "<Figure size 432x288 with 1 Axes>"
      ]
     },
     "metadata": {},
     "output_type": "display_data"
    }
   ],
   "source": [
    "df.styear.value_counts().sort_index().plot()"
   ]
  },
  {
   "cell_type": "markdown",
   "metadata": {},
   "source": [
    "### Um was für Konflikte handelt es sich?"
   ]
  },
  {
   "cell_type": "code",
   "execution_count": 16,
   "metadata": {},
   "outputs": [],
   "source": [
    "hostlev_codes = pd.Series({\n",
    "    0: \"Unknown\",\n",
    "    1: \"No militarized action\",\n",
    "    2: \"Threat to use force\",\n",
    "    3: \"Display of force\",\n",
    "    4: \"Use of force\",\n",
    "    5: \"War\"\n",
    "})"
   ]
  },
  {
   "cell_type": "code",
   "execution_count": 17,
   "metadata": {},
   "outputs": [],
   "source": [
    "df_hostlev_codes = hostlev_codes.to_frame().rename(columns={0: \"intensity\"})"
   ]
  },
  {
   "cell_type": "code",
   "execution_count": 18,
   "metadata": {},
   "outputs": [
    {
     "data": {
      "text/html": [
       "<div>\n",
       "<style scoped>\n",
       "    .dataframe tbody tr th:only-of-type {\n",
       "        vertical-align: middle;\n",
       "    }\n",
       "\n",
       "    .dataframe tbody tr th {\n",
       "        vertical-align: top;\n",
       "    }\n",
       "\n",
       "    .dataframe thead th {\n",
       "        text-align: right;\n",
       "    }\n",
       "</style>\n",
       "<table border=\"1\" class=\"dataframe\">\n",
       "  <thead>\n",
       "    <tr style=\"text-align: right;\">\n",
       "      <th></th>\n",
       "      <th>hostlev</th>\n",
       "      <th>intensity</th>\n",
       "    </tr>\n",
       "  </thead>\n",
       "  <tbody>\n",
       "    <tr>\n",
       "      <th>0</th>\n",
       "      <td>1</td>\n",
       "      <td>Unknown</td>\n",
       "    </tr>\n",
       "    <tr>\n",
       "      <th>1</th>\n",
       "      <td>1341</td>\n",
       "      <td>No militarized action</td>\n",
       "    </tr>\n",
       "    <tr>\n",
       "      <th>2</th>\n",
       "      <td>216</td>\n",
       "      <td>Threat to use force</td>\n",
       "    </tr>\n",
       "    <tr>\n",
       "      <th>3</th>\n",
       "      <td>1266</td>\n",
       "      <td>Display of force</td>\n",
       "    </tr>\n",
       "    <tr>\n",
       "      <th>4</th>\n",
       "      <td>2366</td>\n",
       "      <td>Use of force</td>\n",
       "    </tr>\n",
       "    <tr>\n",
       "      <th>5</th>\n",
       "      <td>321</td>\n",
       "      <td>War</td>\n",
       "    </tr>\n",
       "  </tbody>\n",
       "</table>\n",
       "</div>"
      ],
      "text/plain": [
       "   hostlev              intensity\n",
       "0        1                Unknown\n",
       "1     1341  No militarized action\n",
       "2      216    Threat to use force\n",
       "3     1266       Display of force\n",
       "4     2366           Use of force\n",
       "5      321                    War"
      ]
     },
     "execution_count": 18,
     "metadata": {},
     "output_type": "execute_result"
    }
   ],
   "source": [
    "df.hostlev.value_counts().to_frame().join(df_hostlev_codes).sort_index()"
   ]
  },
  {
   "cell_type": "code",
   "execution_count": 19,
   "metadata": {},
   "outputs": [
    {
     "data": {
      "text/plain": [
       "<matplotlib.axes._subplots.AxesSubplot at 0x1189250f0>"
      ]
     },
     "execution_count": 19,
     "metadata": {},
     "output_type": "execute_result"
    },
    {
     "data": {
      "image/png": "[encoded data removed]",
      "text/plain": [
       "<Figure size 432x288 with 1 Axes>"
      ]
     },
     "metadata": {},
     "output_type": "display_data"
    }
   ],
   "source": [
    "df.hostlev.value_counts().to_frame().join(df_hostlev_codes).sort_index().plot(kind='barh', y=\"hostlev\", x=\"intensity\")"
   ]
  },
  {
   "cell_type": "markdown",
   "metadata": {},
   "source": [
    "Wichtig: mehrere Wege führen zum Ziel. Bsp oben, man könnte den Code auch anders schreiben..."
   ]
  },
  {
   "cell_type": "markdown",
   "metadata": {},
   "source": [
    "## Wir wollen etwas mehr wissen"
   ]
  },
  {
   "cell_type": "markdown",
   "metadata": {},
   "source": [
    "### Zeitdauer von verschiedenen Konflikttypen"
   ]
  },
  {
   "cell_type": "code",
   "execution_count": 20,
   "metadata": {},
   "outputs": [],
   "source": [
    "#create one date field out of year/month/day for start and end date\n",
    "df['stdate'] = df.styear.astype(str) + \"/\" + df.stmon.astype(str) + \"/\" + df.stday.astype(str)\n",
    "df['enddate'] = df.endyear.astype(str) + \"/\" + df.endmon.astype(str) + \"/\" + df.endday.astype(str)"
   ]
  },
  {
   "cell_type": "code",
   "execution_count": 21,
   "metadata": {},
   "outputs": [],
   "source": [
    "#oops, some days have \"-9\" in them (=unknown dates). replace them with 15 (best guess)\n",
    "df['stdate'] = df.stdate.str.replace(\"-9\",\"15\")\n",
    "df['enddate'] = df.enddate.str.replace(\"-9\",\"15\")"
   ]
  },
  {
   "cell_type": "code",
   "execution_count": 22,
   "metadata": {},
   "outputs": [],
   "source": [
    "#convert to datetime\n",
    "df['stdate'] = pd.to_datetime(df.stdate, format=\"%Y/%m/%d\")\n",
    "df['enddate'] = pd.to_datetime(df.enddate, format=\"%Y/%m/%d\")"
   ]
  },
  {
   "cell_type": "code",
   "execution_count": 23,
   "metadata": {},
   "outputs": [],
   "source": [
    "#new field for the time difference\n",
    "df['timediff'] = df.enddate - df.stdate"
   ]
  },
  {
   "cell_type": "code",
   "execution_count": 24,
   "metadata": {},
   "outputs": [],
   "source": [
    "#get back the days and months\n",
    "df['timediff_days'] = df.timediff.dt.days"
   ]
  },
  {
   "cell_type": "code",
   "execution_count": 25,
   "metadata": {},
   "outputs": [
    {
     "data": {
      "text/plain": [
       "Text(0.5,1,'Anzahl der Konflikte nach Zeitdauer, in Tagen')"
      ]
     },
     "execution_count": 25,
     "metadata": {},
     "output_type": "execute_result"
    },
    {
     "data": {
      "image/png": "[encoded data removed]",
      "text/plain": [
       "<Figure size 720x360 with 1 Axes>"
      ]
     },
     "metadata": {},
     "output_type": "display_data"
    }
   ],
   "source": [
    "plt = df.timediff_days.hist(bins=100, figsize=(10,5))\n",
    "plt.set_title(\"Anzahl der Konflikte nach Zeitdauer, in Tagen\")"
   ]
  },
  {
   "cell_type": "code",
   "execution_count": 26,
   "metadata": {},
   "outputs": [
    {
     "data": {
      "text/plain": [
       "count                        5511\n",
       "mean     172 days 05:25:18.780620\n",
       "std      382 days 07:26:50.820520\n",
       "min            -14 days +00:00:00\n",
       "25%               0 days 00:00:00\n",
       "50%              40 days 00:00:00\n",
       "75%             182 days 00:00:00\n",
       "max            4903 days 00:00:00\n",
       "Name: timediff, dtype: object"
      ]
     },
     "execution_count": 26,
     "metadata": {},
     "output_type": "execute_result"
    }
   ],
   "source": [
    "df.timediff.describe()"
   ]
  },
  {
   "cell_type": "markdown",
   "metadata": {},
   "source": [
    "### Welche Länder haben Konflikte angefangen?"
   ]
  },
  {
   "cell_type": "code",
   "execution_count": 27,
   "metadata": {},
   "outputs": [
    {
     "data": {
      "text/plain": [
       "stabb\n",
       "LBR    1.000000\n",
       "CRO    1.000000\n",
       "PAP    1.000000\n",
       "PAR    1.000000\n",
       "HAI    1.000000\n",
       "PNG    1.000000\n",
       "GUY    1.000000\n",
       "PRK    1.000000\n",
       "GRN    1.000000\n",
       "GNB    1.000000\n",
       "GHA    1.000000\n",
       "GAM    1.000000\n",
       "GAB    1.000000\n",
       "RWA    1.000000\n",
       "ERI    1.000000\n",
       "EQG    1.000000\n",
       "MAA    1.000000\n",
       "DJI    1.000000\n",
       "SIN    1.000000\n",
       "PAN    1.000000\n",
       "PAL    1.000000\n",
       "IND    1.000000\n",
       "MLI    1.000000\n",
       "MAD    1.000000\n",
       "MAG    1.000000\n",
       "MAL    1.000000\n",
       "MAW    1.000000\n",
       "LEB    1.000000\n",
       "LAO    1.000000\n",
       "MLD    1.000000\n",
       "         ...   \n",
       "POL    0.666667\n",
       "QAT    0.666667\n",
       "BEL    0.636364\n",
       "RUM    0.606061\n",
       "LUX    0.600000\n",
       "SIC    0.600000\n",
       "OMA    0.545455\n",
       "BAH    0.500000\n",
       "MAC    0.500000\n",
       "SLO    0.500000\n",
       "NAM    0.500000\n",
       "TUS    0.500000\n",
       "HSE    0.500000\n",
       "UAE    0.454545\n",
       "SAX    0.400000\n",
       "AUL    0.357143\n",
       "HAN    0.250000\n",
       "MEC    0.000000\n",
       "MOD    0.000000\n",
       "JAM    0.000000\n",
       "NEW    0.000000\n",
       "SVG    0.000000\n",
       "HSG    0.000000\n",
       "BAD    0.000000\n",
       "BAR    0.000000\n",
       "BAV    0.000000\n",
       "WRT    0.000000\n",
       "DMA    0.000000\n",
       "SLU    0.000000\n",
       "AAB    0.000000\n",
       "Name: orig, Length: 195, dtype: float64"
      ]
     },
     "execution_count": 27,
     "metadata": {},
     "output_type": "execute_result"
    }
   ],
   "source": [
    "#field 'orig' has 1 if country 'originated' the conlfict (whatever this means)\n",
    "df.groupby('stabb')['orig'].mean().sort_values(ascending=False)"
   ]
  },
  {
   "cell_type": "code",
   "execution_count": 28,
   "metadata": {},
   "outputs": [],
   "source": [
    "#look only at the 10 countries with most conflicts\n",
    "top10 = df.stabb.value_counts().head(10).keys()"
   ]
  },
  {
   "cell_type": "code",
   "execution_count": 29,
   "metadata": {},
   "outputs": [
    {
     "data": {
      "text/plain": [
       "stabb\n",
       "IRN    0.986755\n",
       "CHN    0.954128\n",
       "JPN    0.953642\n",
       "TUR    0.906832\n",
       "USR    0.863281\n",
       "GMY    0.846626\n",
       "USA    0.831776\n",
       "UKG    0.794979\n",
       "ITA    0.764706\n",
       "FRN    0.763636\n",
       "Name: orig, dtype: float64"
      ]
     },
     "execution_count": 29,
     "metadata": {},
     "output_type": "execute_result"
    }
   ],
   "source": [
    "df[df.stabb.isin(top10)].groupby('stabb')['orig'].mean().sort_values(ascending=False)"
   ]
  },
  {
   "cell_type": "markdown",
   "metadata": {},
   "source": [
    "**Wer zur Hölle ist IRN?**\n",
    "\n",
    "-> Die Auswertung ist nur so gut wie die Info, die in der Datenbank drin ist\n",
    "-> Pandas selbst beantwortet in den seltensten Fällen alles"
   ]
  },
  {
   "cell_type": "code",
   "execution_count": 30,
   "metadata": {},
   "outputs": [
    {
     "data": {
      "text/html": [
       "<div>\n",
       "<style scoped>\n",
       "    .dataframe tbody tr th:only-of-type {\n",
       "        vertical-align: middle;\n",
       "    }\n",
       "\n",
       "    .dataframe tbody tr th {\n",
       "        vertical-align: top;\n",
       "    }\n",
       "\n",
       "    .dataframe thead th {\n",
       "        text-align: right;\n",
       "    }\n",
       "</style>\n",
       "<table border=\"1\" class=\"dataframe\">\n",
       "  <thead>\n",
       "    <tr style=\"text-align: right;\">\n",
       "      <th></th>\n",
       "      <th>dispnum3</th>\n",
       "      <th>dispnum4</th>\n",
       "      <th>stabb</th>\n",
       "      <th>ccode</th>\n",
       "      <th>stday</th>\n",
       "      <th>stmon</th>\n",
       "      <th>styear</th>\n",
       "      <th>endday</th>\n",
       "      <th>endmon</th>\n",
       "      <th>endyear</th>\n",
       "      <th>...</th>\n",
       "      <th>hostlev</th>\n",
       "      <th>orig</th>\n",
       "      <th>version</th>\n",
       "      <th>changes_1</th>\n",
       "      <th>changes_2</th>\n",
       "      <th>changes_3</th>\n",
       "      <th>stdate</th>\n",
       "      <th>enddate</th>\n",
       "      <th>timediff</th>\n",
       "      <th>timediff_days</th>\n",
       "    </tr>\n",
       "  </thead>\n",
       "  <tbody>\n",
       "    <tr>\n",
       "      <th>8</th>\n",
       "      <td>8</td>\n",
       "      <td>-9</td>\n",
       "      <td>IRN</td>\n",
       "      <td>630</td>\n",
       "      <td>-9</td>\n",
       "      <td>7</td>\n",
       "      <td>1856</td>\n",
       "      <td>5</td>\n",
       "      <td>4</td>\n",
       "      <td>1857</td>\n",
       "      <td>...</td>\n",
       "      <td>5</td>\n",
       "      <td>1</td>\n",
       "      <td>4.2</td>\n",
       "      <td>1</td>\n",
       "      <td>2</td>\n",
       "      <td>0</td>\n",
       "      <td>1856-07-15</td>\n",
       "      <td>1857-04-05</td>\n",
       "      <td>264 days</td>\n",
       "      <td>264</td>\n",
       "    </tr>\n",
       "    <tr>\n",
       "      <th>36</th>\n",
       "      <td>20</td>\n",
       "      <td>-9</td>\n",
       "      <td>IRN</td>\n",
       "      <td>630</td>\n",
       "      <td>18</td>\n",
       "      <td>11</td>\n",
       "      <td>1945</td>\n",
       "      <td>9</td>\n",
       "      <td>5</td>\n",
       "      <td>1946</td>\n",
       "      <td>...</td>\n",
       "      <td>1</td>\n",
       "      <td>1</td>\n",
       "      <td>4.2</td>\n",
       "      <td>0</td>\n",
       "      <td>0</td>\n",
       "      <td>0</td>\n",
       "      <td>1945-11-18</td>\n",
       "      <td>1946-05-09</td>\n",
       "      <td>172 days</td>\n",
       "      <td>172</td>\n",
       "    </tr>\n",
       "    <tr>\n",
       "      <th>203</th>\n",
       "      <td>122</td>\n",
       "      <td>-9</td>\n",
       "      <td>IRN</td>\n",
       "      <td>630</td>\n",
       "      <td>29</td>\n",
       "      <td>6</td>\n",
       "      <td>1961</td>\n",
       "      <td>29</td>\n",
       "      <td>6</td>\n",
       "      <td>1961</td>\n",
       "      <td>...</td>\n",
       "      <td>1</td>\n",
       "      <td>0</td>\n",
       "      <td>4.2</td>\n",
       "      <td>0</td>\n",
       "      <td>0</td>\n",
       "      <td>0</td>\n",
       "      <td>1961-06-29</td>\n",
       "      <td>1961-06-29</td>\n",
       "      <td>0 days</td>\n",
       "      <td>0</td>\n",
       "    </tr>\n",
       "  </tbody>\n",
       "</table>\n",
       "<p>3 rows × 27 columns</p>\n",
       "</div>"
      ],
      "text/plain": [
       "     dispnum3  dispnum4 stabb  ccode  stday  stmon  styear  endday  endmon  \\\n",
       "8           8        -9   IRN    630     -9      7    1856       5       4   \n",
       "36         20        -9   IRN    630     18     11    1945       9       5   \n",
       "203       122        -9   IRN    630     29      6    1961      29       6   \n",
       "\n",
       "     endyear      ...        hostlev  orig  version  changes_1  changes_2  \\\n",
       "8       1857      ...              5     1      4.2          1          2   \n",
       "36      1946      ...              1     1      4.2          0          0   \n",
       "203     1961      ...              1     0      4.2          0          0   \n",
       "\n",
       "     changes_3     stdate    enddate  timediff  timediff_days  \n",
       "8            0 1856-07-15 1857-04-05  264 days            264  \n",
       "36           0 1945-11-18 1946-05-09  172 days            172  \n",
       "203          0 1961-06-29 1961-06-29    0 days              0  \n",
       "\n",
       "[3 rows x 27 columns]"
      ]
     },
     "execution_count": 30,
     "metadata": {},
     "output_type": "execute_result"
    }
   ],
   "source": [
    "df_irn = df[df.stabb == 'IRN']\n",
    "df_irn.head(3)"
   ]
  },
  {
   "cell_type": "markdown",
   "metadata": {},
   "source": [
    "IRN has country code 630\n",
    "- could be Iran\n",
    "- or Puerto Rico ??"
   ]
  },
  {
   "cell_type": "code",
   "execution_count": 31,
   "metadata": {},
   "outputs": [
    {
     "data": {
      "text/plain": [
       "<matplotlib.axes._subplots.AxesSubplot at 0x118bd8e80>"
      ]
     },
     "execution_count": 31,
     "metadata": {},
     "output_type": "execute_result"
    },
    {
     "data": {
      "image/png": "[encoded data removed]",
      "text/plain": [
       "<Figure size 432x288 with 1 Axes>"
      ]
     },
     "metadata": {},
     "output_type": "display_data"
    }
   ],
   "source": [
    "df_irn.styear.value_counts().sort_index().plot()"
   ]
  },
  {
   "cell_type": "markdown",
   "metadata": {},
   "source": [
    "Looks like it is Iran after all..."
   ]
  },
  {
   "cell_type": "markdown",
   "metadata": {},
   "source": [
    "### Was für Konflikte hat Iran geführt?"
   ]
  },
  {
   "cell_type": "code",
   "execution_count": 32,
   "metadata": {},
   "outputs": [
    {
     "data": {
      "text/html": [
       "<div>\n",
       "<style scoped>\n",
       "    .dataframe tbody tr th:only-of-type {\n",
       "        vertical-align: middle;\n",
       "    }\n",
       "\n",
       "    .dataframe tbody tr th {\n",
       "        vertical-align: top;\n",
       "    }\n",
       "\n",
       "    .dataframe thead th {\n",
       "        text-align: right;\n",
       "    }\n",
       "</style>\n",
       "<table border=\"1\" class=\"dataframe\">\n",
       "  <thead>\n",
       "    <tr style=\"text-align: right;\">\n",
       "      <th></th>\n",
       "      <th>intensity</th>\n",
       "    </tr>\n",
       "  </thead>\n",
       "  <tbody>\n",
       "    <tr>\n",
       "      <th>0</th>\n",
       "      <td>Unknown</td>\n",
       "    </tr>\n",
       "    <tr>\n",
       "      <th>1</th>\n",
       "      <td>No militarized action</td>\n",
       "    </tr>\n",
       "    <tr>\n",
       "      <th>2</th>\n",
       "      <td>Threat to use force</td>\n",
       "    </tr>\n",
       "    <tr>\n",
       "      <th>3</th>\n",
       "      <td>Display of force</td>\n",
       "    </tr>\n",
       "    <tr>\n",
       "      <th>4</th>\n",
       "      <td>Use of force</td>\n",
       "    </tr>\n",
       "    <tr>\n",
       "      <th>5</th>\n",
       "      <td>War</td>\n",
       "    </tr>\n",
       "  </tbody>\n",
       "</table>\n",
       "</div>"
      ],
      "text/plain": [
       "               intensity\n",
       "0                Unknown\n",
       "1  No militarized action\n",
       "2    Threat to use force\n",
       "3       Display of force\n",
       "4           Use of force\n",
       "5                    War"
      ]
     },
     "execution_count": 32,
     "metadata": {},
     "output_type": "execute_result"
    }
   ],
   "source": [
    "#We still have our hostlev_codes...\n",
    "df_hostlev_codes"
   ]
  },
  {
   "cell_type": "code",
   "execution_count": 33,
   "metadata": {},
   "outputs": [
    {
     "data": {
      "text/html": [
       "<div>\n",
       "<style scoped>\n",
       "    .dataframe tbody tr th:only-of-type {\n",
       "        vertical-align: middle;\n",
       "    }\n",
       "\n",
       "    .dataframe tbody tr th {\n",
       "        vertical-align: top;\n",
       "    }\n",
       "\n",
       "    .dataframe thead th {\n",
       "        text-align: right;\n",
       "    }\n",
       "</style>\n",
       "<table border=\"1\" class=\"dataframe\">\n",
       "  <thead>\n",
       "    <tr style=\"text-align: right;\">\n",
       "      <th></th>\n",
       "      <th>hostlev</th>\n",
       "      <th>intensity</th>\n",
       "    </tr>\n",
       "  </thead>\n",
       "  <tbody>\n",
       "    <tr>\n",
       "      <th>1</th>\n",
       "      <td>21</td>\n",
       "      <td>No militarized action</td>\n",
       "    </tr>\n",
       "    <tr>\n",
       "      <th>2</th>\n",
       "      <td>3</td>\n",
       "      <td>Threat to use force</td>\n",
       "    </tr>\n",
       "    <tr>\n",
       "      <th>3</th>\n",
       "      <td>25</td>\n",
       "      <td>Display of force</td>\n",
       "    </tr>\n",
       "    <tr>\n",
       "      <th>4</th>\n",
       "      <td>100</td>\n",
       "      <td>Use of force</td>\n",
       "    </tr>\n",
       "    <tr>\n",
       "      <th>5</th>\n",
       "      <td>2</td>\n",
       "      <td>War</td>\n",
       "    </tr>\n",
       "  </tbody>\n",
       "</table>\n",
       "</div>"
      ],
      "text/plain": [
       "   hostlev              intensity\n",
       "1       21  No militarized action\n",
       "2        3    Threat to use force\n",
       "3       25       Display of force\n",
       "4      100           Use of force\n",
       "5        2                    War"
      ]
     },
     "execution_count": 33,
     "metadata": {},
     "output_type": "execute_result"
    }
   ],
   "source": [
    "df_irn.hostlev.value_counts().to_frame().join(df_hostlev_codes).sort_index()"
   ]
  },
  {
   "cell_type": "code",
   "execution_count": 34,
   "metadata": {},
   "outputs": [
    {
     "data": {
      "text/plain": [
       "<matplotlib.axes._subplots.AxesSubplot at 0x118eec0b8>"
      ]
     },
     "execution_count": 34,
     "metadata": {},
     "output_type": "execute_result"
    },
    {
     "data": {
      "image/png": "[encoded data removed]",
      "text/plain": [
       "<Figure size 432x288 with 1 Axes>"
      ]
     },
     "metadata": {},
     "output_type": "display_data"
    }
   ],
   "source": [
    "df_irn.hostlev.value_counts().to_frame().join(df_hostlev_codes).sort_index().plot(kind='barh', y=\"hostlev\", x=\"intensity\")"
   ]
  },
  {
   "cell_type": "markdown",
   "metadata": {},
   "source": [
    "### Wie viele Tote gab es dabei?"
   ]
  },
  {
   "cell_type": "code",
   "execution_count": 35,
   "metadata": {},
   "outputs": [],
   "source": [
    "fatality_codes = pd.Series({\n",
    "    0: \"None\",\n",
    "    1: \"1-25 deaths\",\n",
    "    2: \"26-100 deaths\",\n",
    "    3: \"101-250 deaths\",\n",
    "    4: \"251-500 deaths\",\n",
    "    5: \"501-999 deaths\",\n",
    "    6: \"More than 999 deaths\",\n",
    "    -9: \"Unknown\"\n",
    "})"
   ]
  },
  {
   "cell_type": "code",
   "execution_count": 36,
   "metadata": {},
   "outputs": [
    {
     "data": {
      "text/html": [
       "<div>\n",
       "<style scoped>\n",
       "    .dataframe tbody tr th:only-of-type {\n",
       "        vertical-align: middle;\n",
       "    }\n",
       "\n",
       "    .dataframe tbody tr th {\n",
       "        vertical-align: top;\n",
       "    }\n",
       "\n",
       "    .dataframe thead th {\n",
       "        text-align: right;\n",
       "    }\n",
       "</style>\n",
       "<table border=\"1\" class=\"dataframe\">\n",
       "  <thead>\n",
       "    <tr style=\"text-align: right;\">\n",
       "      <th></th>\n",
       "      <th>fatalities</th>\n",
       "    </tr>\n",
       "  </thead>\n",
       "  <tbody>\n",
       "    <tr>\n",
       "      <th>0</th>\n",
       "      <td>None</td>\n",
       "    </tr>\n",
       "    <tr>\n",
       "      <th>1</th>\n",
       "      <td>1-25 deaths</td>\n",
       "    </tr>\n",
       "    <tr>\n",
       "      <th>2</th>\n",
       "      <td>26-100 deaths</td>\n",
       "    </tr>\n",
       "    <tr>\n",
       "      <th>3</th>\n",
       "      <td>101-250 deaths</td>\n",
       "    </tr>\n",
       "    <tr>\n",
       "      <th>4</th>\n",
       "      <td>251-500 deaths</td>\n",
       "    </tr>\n",
       "    <tr>\n",
       "      <th>5</th>\n",
       "      <td>501-999 deaths</td>\n",
       "    </tr>\n",
       "    <tr>\n",
       "      <th>6</th>\n",
       "      <td>More than 999 deaths</td>\n",
       "    </tr>\n",
       "    <tr>\n",
       "      <th>-9</th>\n",
       "      <td>Unknown</td>\n",
       "    </tr>\n",
       "  </tbody>\n",
       "</table>\n",
       "</div>"
      ],
      "text/plain": [
       "              fatalities\n",
       " 0                  None\n",
       " 1           1-25 deaths\n",
       " 2         26-100 deaths\n",
       " 3        101-250 deaths\n",
       " 4        251-500 deaths\n",
       " 5        501-999 deaths\n",
       " 6  More than 999 deaths\n",
       "-9               Unknown"
      ]
     },
     "execution_count": 36,
     "metadata": {},
     "output_type": "execute_result"
    }
   ],
   "source": [
    "df_fatality_codes = fatality_codes.to_frame().rename(columns={0: \"fatalities\"})\n",
    "df_fatality_codes"
   ]
  },
  {
   "cell_type": "code",
   "execution_count": 37,
   "metadata": {},
   "outputs": [
    {
     "data": {
      "text/html": [
       "<div>\n",
       "<style scoped>\n",
       "    .dataframe tbody tr th:only-of-type {\n",
       "        vertical-align: middle;\n",
       "    }\n",
       "\n",
       "    .dataframe tbody tr th {\n",
       "        vertical-align: top;\n",
       "    }\n",
       "\n",
       "    .dataframe thead th {\n",
       "        text-align: right;\n",
       "    }\n",
       "</style>\n",
       "<table border=\"1\" class=\"dataframe\">\n",
       "  <thead>\n",
       "    <tr style=\"text-align: right;\">\n",
       "      <th></th>\n",
       "      <th>number</th>\n",
       "    </tr>\n",
       "  </thead>\n",
       "  <tbody>\n",
       "    <tr>\n",
       "      <th>0</th>\n",
       "      <td>121</td>\n",
       "    </tr>\n",
       "    <tr>\n",
       "      <th>1</th>\n",
       "      <td>15</td>\n",
       "    </tr>\n",
       "    <tr>\n",
       "      <th>-9</th>\n",
       "      <td>11</td>\n",
       "    </tr>\n",
       "    <tr>\n",
       "      <th>6</th>\n",
       "      <td>2</td>\n",
       "    </tr>\n",
       "    <tr>\n",
       "      <th>2</th>\n",
       "      <td>2</td>\n",
       "    </tr>\n",
       "  </tbody>\n",
       "</table>\n",
       "</div>"
      ],
      "text/plain": [
       "    number\n",
       " 0     121\n",
       " 1      15\n",
       "-9      11\n",
       " 6       2\n",
       " 2       2"
      ]
     },
     "execution_count": 37,
     "metadata": {},
     "output_type": "execute_result"
    }
   ],
   "source": [
    "df_irn_fatality = df_irn.fatality.value_counts().to_frame().rename(columns={'fatality': 'number'})\n",
    "df_irn_fatality"
   ]
  },
  {
   "cell_type": "code",
   "execution_count": 38,
   "metadata": {},
   "outputs": [
    {
     "data": {
      "text/html": [
       "<div>\n",
       "<style scoped>\n",
       "    .dataframe tbody tr th:only-of-type {\n",
       "        vertical-align: middle;\n",
       "    }\n",
       "\n",
       "    .dataframe tbody tr th {\n",
       "        vertical-align: top;\n",
       "    }\n",
       "\n",
       "    .dataframe thead th {\n",
       "        text-align: right;\n",
       "    }\n",
       "</style>\n",
       "<table border=\"1\" class=\"dataframe\">\n",
       "  <thead>\n",
       "    <tr style=\"text-align: right;\">\n",
       "      <th></th>\n",
       "      <th>number</th>\n",
       "      <th>fatalities</th>\n",
       "    </tr>\n",
       "  </thead>\n",
       "  <tbody>\n",
       "    <tr>\n",
       "      <th>-9</th>\n",
       "      <td>11.0</td>\n",
       "      <td>Unknown</td>\n",
       "    </tr>\n",
       "    <tr>\n",
       "      <th>0</th>\n",
       "      <td>121.0</td>\n",
       "      <td>None</td>\n",
       "    </tr>\n",
       "    <tr>\n",
       "      <th>1</th>\n",
       "      <td>15.0</td>\n",
       "      <td>1-25 deaths</td>\n",
       "    </tr>\n",
       "    <tr>\n",
       "      <th>2</th>\n",
       "      <td>2.0</td>\n",
       "      <td>26-100 deaths</td>\n",
       "    </tr>\n",
       "    <tr>\n",
       "      <th>3</th>\n",
       "      <td>0.0</td>\n",
       "      <td>101-250 deaths</td>\n",
       "    </tr>\n",
       "    <tr>\n",
       "      <th>4</th>\n",
       "      <td>0.0</td>\n",
       "      <td>251-500 deaths</td>\n",
       "    </tr>\n",
       "    <tr>\n",
       "      <th>5</th>\n",
       "      <td>0.0</td>\n",
       "      <td>501-999 deaths</td>\n",
       "    </tr>\n",
       "    <tr>\n",
       "      <th>6</th>\n",
       "      <td>2.0</td>\n",
       "      <td>More than 999 deaths</td>\n",
       "    </tr>\n",
       "  </tbody>\n",
       "</table>\n",
       "</div>"
      ],
      "text/plain": [
       "    number            fatalities\n",
       "-9    11.0               Unknown\n",
       " 0   121.0                  None\n",
       " 1    15.0           1-25 deaths\n",
       " 2     2.0         26-100 deaths\n",
       " 3     0.0        101-250 deaths\n",
       " 4     0.0        251-500 deaths\n",
       " 5     0.0        501-999 deaths\n",
       " 6     2.0  More than 999 deaths"
      ]
     },
     "execution_count": 38,
     "metadata": {},
     "output_type": "execute_result"
    }
   ],
   "source": [
    "df_irn_fatality.join(df_fatality_codes, how=\"outer\").sort_index().fillna(0)"
   ]
  },
  {
   "cell_type": "code",
   "execution_count": 39,
   "metadata": {},
   "outputs": [
    {
     "data": {
      "text/plain": [
       "<matplotlib.axes._subplots.AxesSubplot at 0x119075198>"
      ]
     },
     "execution_count": 39,
     "metadata": {},
     "output_type": "execute_result"
    },
    {
     "data": {
      "image/png": "[encoded data removed]",
      "text/plain": [
       "<Figure size 432x288 with 1 Axes>"
      ]
     },
     "metadata": {},
     "output_type": "display_data"
    }
   ],
   "source": [
    "df_irn_fatality.join(df_fatality_codes, how=\"outer\").sort_index().fillna(0).plot(kind='barh', y=\"number\", x=\"fatalities\")"
   ]
  },
  {
   "cell_type": "markdown",
   "metadata": {},
   "source": [
    "Iran hat zwei Kriege mit über 999 Toten geführt, bei den meisten Konflikten gab es aber keine Toten."
   ]
  },
  {
   "cell_type": "markdown",
   "metadata": {},
   "source": [
    "## Daten exportieren und anderweitig verwenden"
   ]
  },
  {
   "cell_type": "markdown",
   "metadata": {},
   "source": [
    "Sagen wir mal, wir schreiben gerade einen Artikel über die Geschichte der Kriege.\n",
    "- Nehmen wir an, wir möchten die Grafik online mit 'infogram' weiterverbreiten\n",
    "- Wir möchten für eine interaktive Web-Grafk aufzeigen, welche Länder in wie viele Kriege verwickelt waren\n",
    "- Uns interessieren die 10 Länder, die am häufigsten in den Hostility Kategorien 4 und 5 drin waren\n",
    "- Wir wollen das 19. und das 20. Jahrhundert separat anschauen"
   ]
  },
  {
   "cell_type": "markdown",
   "metadata": {},
   "source": [
    "### Daten vorbereiten"
   ]
  },
  {
   "cell_type": "code",
   "execution_count": 40,
   "metadata": {},
   "outputs": [],
   "source": [
    "# Select only level 4 and 5 types\n",
    "df_45 = df[df.hostlev.isin([4, 5])]"
   ]
  },
  {
   "cell_type": "code",
   "execution_count": 41,
   "metadata": {},
   "outputs": [
    {
     "data": {
      "text/plain": [
       "Index(['USR', 'USA', 'CHN', 'IRN', 'UKG', 'GMY', 'FRN', 'IRQ', 'ISR', 'TUR'], dtype='object')"
      ]
     },
     "execution_count": 41,
     "metadata": {},
     "output_type": "execute_result"
    }
   ],
   "source": [
    "# Which are the top 10 countries?\n",
    "top10 = df_45.stabb.value_counts().head(10).keys()\n",
    "top10"
   ]
  },
  {
   "cell_type": "code",
   "execution_count": 43,
   "metadata": {},
   "outputs": [
    {
     "name": "stderr",
     "output_type": "stream",
     "text": [
      "/anaconda3/lib/python3.6/site-packages/ipykernel_launcher.py:2: UserWarning: Boolean Series key will be reindexed to match DataFrame index.\n",
      "  \n"
     ]
    }
   ],
   "source": [
    "# Select only the top 10 countries\n",
    "df_45_top10 = df_45[df.stabb.isin(top10)].copy()"
   ]
  },
  {
   "cell_type": "code",
   "execution_count": 44,
   "metadata": {},
   "outputs": [
    {
     "data": {
      "text/html": [
       "<div>\n",
       "<style scoped>\n",
       "    .dataframe tbody tr th:only-of-type {\n",
       "        vertical-align: middle;\n",
       "    }\n",
       "\n",
       "    .dataframe tbody tr th {\n",
       "        vertical-align: top;\n",
       "    }\n",
       "\n",
       "    .dataframe thead th {\n",
       "        text-align: right;\n",
       "    }\n",
       "</style>\n",
       "<table border=\"1\" class=\"dataframe\">\n",
       "  <thead>\n",
       "    <tr style=\"text-align: right;\">\n",
       "      <th></th>\n",
       "      <th>dispnum3</th>\n",
       "      <th>dispnum4</th>\n",
       "      <th>stabb</th>\n",
       "      <th>ccode</th>\n",
       "      <th>stday</th>\n",
       "      <th>stmon</th>\n",
       "      <th>styear</th>\n",
       "      <th>endday</th>\n",
       "      <th>endmon</th>\n",
       "      <th>endyear</th>\n",
       "      <th>...</th>\n",
       "      <th>orig</th>\n",
       "      <th>version</th>\n",
       "      <th>changes_1</th>\n",
       "      <th>changes_2</th>\n",
       "      <th>changes_3</th>\n",
       "      <th>stdate</th>\n",
       "      <th>enddate</th>\n",
       "      <th>timediff</th>\n",
       "      <th>timediff_days</th>\n",
       "      <th>19th</th>\n",
       "    </tr>\n",
       "  </thead>\n",
       "  <tbody>\n",
       "    <tr>\n",
       "      <th>6</th>\n",
       "      <td>7</td>\n",
       "      <td>-9</td>\n",
       "      <td>UKG</td>\n",
       "      <td>200</td>\n",
       "      <td>13</td>\n",
       "      <td>10</td>\n",
       "      <td>1951</td>\n",
       "      <td>26</td>\n",
       "      <td>1</td>\n",
       "      <td>1952</td>\n",
       "      <td>...</td>\n",
       "      <td>1</td>\n",
       "      <td>4.2</td>\n",
       "      <td>0</td>\n",
       "      <td>0</td>\n",
       "      <td>0</td>\n",
       "      <td>1951-10-13</td>\n",
       "      <td>1952-01-26</td>\n",
       "      <td>105 days</td>\n",
       "      <td>105</td>\n",
       "      <td>False</td>\n",
       "    </tr>\n",
       "    <tr>\n",
       "      <th>8</th>\n",
       "      <td>8</td>\n",
       "      <td>-9</td>\n",
       "      <td>IRN</td>\n",
       "      <td>630</td>\n",
       "      <td>-9</td>\n",
       "      <td>7</td>\n",
       "      <td>1856</td>\n",
       "      <td>5</td>\n",
       "      <td>4</td>\n",
       "      <td>1857</td>\n",
       "      <td>...</td>\n",
       "      <td>1</td>\n",
       "      <td>4.2</td>\n",
       "      <td>1</td>\n",
       "      <td>2</td>\n",
       "      <td>0</td>\n",
       "      <td>1856-07-15</td>\n",
       "      <td>1857-04-05</td>\n",
       "      <td>264 days</td>\n",
       "      <td>264</td>\n",
       "      <td>True</td>\n",
       "    </tr>\n",
       "    <tr>\n",
       "      <th>9</th>\n",
       "      <td>8</td>\n",
       "      <td>-9</td>\n",
       "      <td>UKG</td>\n",
       "      <td>200</td>\n",
       "      <td>-9</td>\n",
       "      <td>7</td>\n",
       "      <td>1856</td>\n",
       "      <td>5</td>\n",
       "      <td>4</td>\n",
       "      <td>1857</td>\n",
       "      <td>...</td>\n",
       "      <td>1</td>\n",
       "      <td>4.2</td>\n",
       "      <td>1</td>\n",
       "      <td>2</td>\n",
       "      <td>0</td>\n",
       "      <td>1856-07-15</td>\n",
       "      <td>1857-04-05</td>\n",
       "      <td>264 days</td>\n",
       "      <td>264</td>\n",
       "      <td>True</td>\n",
       "    </tr>\n",
       "  </tbody>\n",
       "</table>\n",
       "<p>3 rows × 28 columns</p>\n",
       "</div>"
      ],
      "text/plain": [
       "   dispnum3  dispnum4 stabb  ccode  stday  stmon  styear  endday  endmon  \\\n",
       "6         7        -9   UKG    200     13     10    1951      26       1   \n",
       "8         8        -9   IRN    630     -9      7    1856       5       4   \n",
       "9         8        -9   UKG    200     -9      7    1856       5       4   \n",
       "\n",
       "   endyear  ...    orig  version  changes_1  changes_2  changes_3     stdate  \\\n",
       "6     1952  ...       1      4.2          0          0          0 1951-10-13   \n",
       "8     1857  ...       1      4.2          1          2          0 1856-07-15   \n",
       "9     1857  ...       1      4.2          1          2          0 1856-07-15   \n",
       "\n",
       "     enddate  timediff  timediff_days   19th  \n",
       "6 1952-01-26  105 days            105  False  \n",
       "8 1857-04-05  264 days            264   True  \n",
       "9 1857-04-05  264 days            264   True  \n",
       "\n",
       "[3 rows x 28 columns]"
      ]
     },
     "execution_count": 44,
     "metadata": {},
     "output_type": "execute_result"
    }
   ],
   "source": [
    "# Create a boolean column if a conflict was in the 19th century\n",
    "df_45_top10['19th'] = df_45_top10.styear < 1901\n",
    "df_45_top10.head(3)"
   ]
  },
  {
   "cell_type": "code",
   "execution_count": 45,
   "metadata": {},
   "outputs": [],
   "source": [
    "# Create another boolean column if the conflict wasnt in the 19th\n",
    "df_45_top10['20th'] = ~df_45_top10['19th']"
   ]
  },
  {
   "cell_type": "code",
   "execution_count": 46,
   "metadata": {},
   "outputs": [
    {
     "data": {
      "text/html": [
       "<div>\n",
       "<style scoped>\n",
       "    .dataframe tbody tr th:only-of-type {\n",
       "        vertical-align: middle;\n",
       "    }\n",
       "\n",
       "    .dataframe tbody tr th {\n",
       "        vertical-align: top;\n",
       "    }\n",
       "\n",
       "    .dataframe thead th {\n",
       "        text-align: right;\n",
       "    }\n",
       "</style>\n",
       "<table border=\"1\" class=\"dataframe\">\n",
       "  <thead>\n",
       "    <tr style=\"text-align: right;\">\n",
       "      <th></th>\n",
       "      <th>dispnum3</th>\n",
       "      <th>dispnum4</th>\n",
       "      <th>stabb</th>\n",
       "      <th>ccode</th>\n",
       "      <th>stday</th>\n",
       "      <th>stmon</th>\n",
       "      <th>styear</th>\n",
       "      <th>endday</th>\n",
       "      <th>endmon</th>\n",
       "      <th>endyear</th>\n",
       "      <th>...</th>\n",
       "      <th>changes_2</th>\n",
       "      <th>changes_3</th>\n",
       "      <th>stdate</th>\n",
       "      <th>enddate</th>\n",
       "      <th>timediff</th>\n",
       "      <th>timediff_days</th>\n",
       "      <th>19th</th>\n",
       "      <th>20th</th>\n",
       "      <th>c19th</th>\n",
       "      <th>c20th</th>\n",
       "    </tr>\n",
       "  </thead>\n",
       "  <tbody>\n",
       "    <tr>\n",
       "      <th>6</th>\n",
       "      <td>7</td>\n",
       "      <td>-9</td>\n",
       "      <td>UKG</td>\n",
       "      <td>200</td>\n",
       "      <td>13</td>\n",
       "      <td>10</td>\n",
       "      <td>1951</td>\n",
       "      <td>26</td>\n",
       "      <td>1</td>\n",
       "      <td>1952</td>\n",
       "      <td>...</td>\n",
       "      <td>0</td>\n",
       "      <td>0</td>\n",
       "      <td>1951-10-13</td>\n",
       "      <td>1952-01-26</td>\n",
       "      <td>105 days</td>\n",
       "      <td>105</td>\n",
       "      <td>False</td>\n",
       "      <td>True</td>\n",
       "      <td>0</td>\n",
       "      <td>1</td>\n",
       "    </tr>\n",
       "    <tr>\n",
       "      <th>8</th>\n",
       "      <td>8</td>\n",
       "      <td>-9</td>\n",
       "      <td>IRN</td>\n",
       "      <td>630</td>\n",
       "      <td>-9</td>\n",
       "      <td>7</td>\n",
       "      <td>1856</td>\n",
       "      <td>5</td>\n",
       "      <td>4</td>\n",
       "      <td>1857</td>\n",
       "      <td>...</td>\n",
       "      <td>2</td>\n",
       "      <td>0</td>\n",
       "      <td>1856-07-15</td>\n",
       "      <td>1857-04-05</td>\n",
       "      <td>264 days</td>\n",
       "      <td>264</td>\n",
       "      <td>True</td>\n",
       "      <td>False</td>\n",
       "      <td>1</td>\n",
       "      <td>0</td>\n",
       "    </tr>\n",
       "    <tr>\n",
       "      <th>9</th>\n",
       "      <td>8</td>\n",
       "      <td>-9</td>\n",
       "      <td>UKG</td>\n",
       "      <td>200</td>\n",
       "      <td>-9</td>\n",
       "      <td>7</td>\n",
       "      <td>1856</td>\n",
       "      <td>5</td>\n",
       "      <td>4</td>\n",
       "      <td>1857</td>\n",
       "      <td>...</td>\n",
       "      <td>2</td>\n",
       "      <td>0</td>\n",
       "      <td>1856-07-15</td>\n",
       "      <td>1857-04-05</td>\n",
       "      <td>264 days</td>\n",
       "      <td>264</td>\n",
       "      <td>True</td>\n",
       "      <td>False</td>\n",
       "      <td>1</td>\n",
       "      <td>0</td>\n",
       "    </tr>\n",
       "  </tbody>\n",
       "</table>\n",
       "<p>3 rows × 31 columns</p>\n",
       "</div>"
      ],
      "text/plain": [
       "   dispnum3  dispnum4 stabb  ccode  stday  stmon  styear  endday  endmon  \\\n",
       "6         7        -9   UKG    200     13     10    1951      26       1   \n",
       "8         8        -9   IRN    630     -9      7    1856       5       4   \n",
       "9         8        -9   UKG    200     -9      7    1856       5       4   \n",
       "\n",
       "   endyear  ...    changes_2  changes_3     stdate    enddate  timediff  \\\n",
       "6     1952  ...            0          0 1951-10-13 1952-01-26  105 days   \n",
       "8     1857  ...            2          0 1856-07-15 1857-04-05  264 days   \n",
       "9     1857  ...            2          0 1856-07-15 1857-04-05  264 days   \n",
       "\n",
       "   timediff_days   19th   20th  c19th  c20th  \n",
       "6            105  False   True      0      1  \n",
       "8            264   True  False      1      0  \n",
       "9            264   True  False      1      0  \n",
       "\n",
       "[3 rows x 31 columns]"
      ]
     },
     "execution_count": 46,
     "metadata": {},
     "output_type": "execute_result"
    }
   ],
   "source": [
    "# Transform the boolean columns to integers\n",
    "df_45_top10['c19th'] = df_45_top10['19th'].astype(int)\n",
    "df_45_top10['c20th'] = df_45_top10['20th'].astype(int)\n",
    "df_45_top10.head(3)"
   ]
  },
  {
   "cell_type": "code",
   "execution_count": 47,
   "metadata": {},
   "outputs": [
    {
     "data": {
      "text/html": [
       "<div>\n",
       "<style scoped>\n",
       "    .dataframe tbody tr th:only-of-type {\n",
       "        vertical-align: middle;\n",
       "    }\n",
       "\n",
       "    .dataframe tbody tr th {\n",
       "        vertical-align: top;\n",
       "    }\n",
       "\n",
       "    .dataframe thead th {\n",
       "        text-align: right;\n",
       "    }\n",
       "</style>\n",
       "<table border=\"1\" class=\"dataframe\">\n",
       "  <thead>\n",
       "    <tr style=\"text-align: right;\">\n",
       "      <th></th>\n",
       "      <th>stabb</th>\n",
       "      <th>19th</th>\n",
       "      <th>20th</th>\n",
       "    </tr>\n",
       "  </thead>\n",
       "  <tbody>\n",
       "    <tr>\n",
       "      <th>7</th>\n",
       "      <td>UKG</td>\n",
       "      <td>29</td>\n",
       "      <td>72</td>\n",
       "    </tr>\n",
       "    <tr>\n",
       "      <th>1</th>\n",
       "      <td>FRN</td>\n",
       "      <td>23</td>\n",
       "      <td>50</td>\n",
       "    </tr>\n",
       "    <tr>\n",
       "      <th>8</th>\n",
       "      <td>USA</td>\n",
       "      <td>16</td>\n",
       "      <td>92</td>\n",
       "    </tr>\n",
       "    <tr>\n",
       "      <th>9</th>\n",
       "      <td>USR</td>\n",
       "      <td>14</td>\n",
       "      <td>110</td>\n",
       "    </tr>\n",
       "    <tr>\n",
       "      <th>2</th>\n",
       "      <td>GMY</td>\n",
       "      <td>12</td>\n",
       "      <td>64</td>\n",
       "    </tr>\n",
       "    <tr>\n",
       "      <th>6</th>\n",
       "      <td>TUR</td>\n",
       "      <td>12</td>\n",
       "      <td>53</td>\n",
       "    </tr>\n",
       "    <tr>\n",
       "      <th>0</th>\n",
       "      <td>CHN</td>\n",
       "      <td>8</td>\n",
       "      <td>96</td>\n",
       "    </tr>\n",
       "    <tr>\n",
       "      <th>3</th>\n",
       "      <td>IRN</td>\n",
       "      <td>1</td>\n",
       "      <td>101</td>\n",
       "    </tr>\n",
       "    <tr>\n",
       "      <th>4</th>\n",
       "      <td>IRQ</td>\n",
       "      <td>0</td>\n",
       "      <td>71</td>\n",
       "    </tr>\n",
       "    <tr>\n",
       "      <th>5</th>\n",
       "      <td>ISR</td>\n",
       "      <td>0</td>\n",
       "      <td>71</td>\n",
       "    </tr>\n",
       "  </tbody>\n",
       "</table>\n",
       "</div>"
      ],
      "text/plain": [
       "  stabb  19th  20th\n",
       "7   UKG    29    72\n",
       "1   FRN    23    50\n",
       "8   USA    16    92\n",
       "9   USR    14   110\n",
       "2   GMY    12    64\n",
       "6   TUR    12    53\n",
       "0   CHN     8    96\n",
       "3   IRN     1   101\n",
       "4   IRQ     0    71\n",
       "5   ISR     0    71"
      ]
     },
     "execution_count": 47,
     "metadata": {},
     "output_type": "execute_result"
    }
   ],
   "source": [
    "# Group by country and sum up the integer columns for both centuries, sort\n",
    "df_chart = df_45_top10.groupby('stabb')[['19th', '20th']].sum().astype(int).reset_index().sort_values('19th', ascending=False)\n",
    "df_chart"
   ]
  },
  {
   "cell_type": "markdown",
   "metadata": {},
   "source": [
    "### Daten exportieren"
   ]
  },
  {
   "cell_type": "code",
   "execution_count": 48,
   "metadata": {},
   "outputs": [],
   "source": [
    "df_chart.to_csv('war-chart.csv', index=False)"
   ]
  },
  {
   "cell_type": "markdown",
   "metadata": {},
   "source": [
    "### Das steht in unserem csv-File:"
   ]
  },
  {
   "cell_type": "code",
   "execution_count": 49,
   "metadata": {},
   "outputs": [],
   "source": [
    "with open('war-chart.csv', \"r\") as f:\n",
    "    file_content = f.read()"
   ]
  },
  {
   "cell_type": "code",
   "execution_count": 50,
   "metadata": {},
   "outputs": [
    {
     "name": "stdout",
     "output_type": "stream",
     "text": [
      "stabb,19th,20th\n",
      "UKG,29,72\n",
      "FRN,23,50\n",
      "USA,16,92\n",
      "USR,14,110\n",
      "GMY,12,64\n",
      "TUR,12,53\n",
      "CHN,8,96\n",
      "IRN,1,101\n",
      "IRQ,0,71\n",
      "ISR,0,71\n",
      "\n"
     ]
    }
   ],
   "source": [
    "print(file_content)"
   ]
  },
  {
   "cell_type": "markdown",
   "metadata": {},
   "source": [
    "### Online-Chart basteln"
   ]
  },
  {
   "cell_type": "markdown",
   "metadata": {},
   "source": [
    "Go to http://infogram.com"
   ]
  },
  {
   "cell_type": "markdown",
   "metadata": {},
   "source": [
    "Paste the csv data..."
   ]
  },
  {
   "cell_type": "markdown",
   "metadata": {},
   "source": [
    "Results: https://infogram.com/top-10-war-countries-1h0n25ger7jz6pe?live"
   ]
  },
  {
   "cell_type": "code",
   "execution_count": null,
   "metadata": {
    "collapsed": true
   },
   "outputs": [],
   "source": []
  }
 ],
 "metadata": {
  "kernelspec": {
   "display_name": "Python 3",
   "language": "python",
   "name": "python3"
  },
  "language_info": {
   "codemirror_mode": {
    "name": "ipython",
    "version": 3
   },
   "file_extension": ".py",
   "mimetype": "text/x-python",
   "name": "python",
   "nbconvert_exporter": "python",
   "pygments_lexer": "ipython3",
   "version": "3.6.6"
  }
 },
 "nbformat": 4,
 "nbformat_minor": 2
}
