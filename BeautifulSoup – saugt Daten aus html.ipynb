{
 "cells": [
  {
   "cell_type": "code",
   "execution_count": 1,
   "metadata": {},
   "outputs": [
    {
     "name": "stdout",
     "output_type": "stream",
     "text": [
      "\u001b[34m03 Python Teil 1\u001b[m\u001b[m      Kursnotizen API.docx  Untitled.ipynb\r\n",
      "\u001b[34m04 Python Teil 2\u001b[m\u001b[m      LICENSE               dasistmeinfile.csv\r\n",
      "\u001b[34m05 Python Teil 3\u001b[m\u001b[m      README.md             html-test\r\n",
      "Beispiel API 02.ipynb Requests.ipynb\r\n",
      "Beispiel API 1.ipynb  Test Git.rtf\r\n"
     ]
    }
   ],
   "source": [
    "# listet files im Ordner\n",
    "!ls"
   ]
  },
  {
   "cell_type": "code",
   "execution_count": 7,
   "metadata": {},
   "outputs": [],
   "source": [
    "# öffnet das Dokument und speichert es als r\n",
    "\n",
    "file = open('html-test', 'r')"
   ]
  },
  {
   "cell_type": "code",
   "execution_count": 12,
   "metadata": {},
   "outputs": [
    {
     "data": {
      "text/plain": [
       "<_io.TextIOWrapper name='html-test' mode='r' encoding='UTF-8'>"
      ]
     },
     "execution_count": 12,
     "metadata": {},
     "output_type": "execute_result"
    }
   ],
   "source": [
    "file"
   ]
  },
  {
   "cell_type": "code",
   "execution_count": 8,
   "metadata": {},
   "outputs": [
    {
     "data": {
      "text/plain": [
       "'<!DOCTYPE html>\\n<html>\\n<title>HTML Tutorial</title>\\n<style>\\ntable {\\n    font-family: arial, sans-serif;\\n    border-collapse: collapse;\\n    width: 100%;\\n}\\n\\ntd, th {\\n    border: 1px solid #dddddd;\\n    text-align: left;\\n    padding: 8px;\\n}\\n\\ntr:nth-child(even) {\\n    background-color: #dddddd;\\n}\\n</style>\\n\\n<body>\\n\\n<h1>This is a heading</h1>\\n<p>This is a paragraph.</p>\\n\\n<ul>\\n  <li>Coffee</li>\\n  <li>Tea</li>\\n  <li>Milk</li>\\n</ul>\\n\\n<table style=\"width:100%\">\\n\\n\\n  <tr>\\n    <th>Firstname</th>\\n    <th>Lastname</th>\\n    <th>Age</th>\\n  </tr>\\n  <tr>\\n    <td>Jill</td>\\n    <td>Smith</td>\\n    <td>50</td>\\n  </tr>\\n  <tr>\\n    <td>Eve</td>\\n    <td>Jackson</td>\\n    <td>94</td>\\n  </tr>\\n</table>\\n\\n</body>\\n</html>\\n'"
      ]
     },
     "execution_count": 8,
     "metadata": {},
     "output_type": "execute_result"
    }
   ],
   "source": [
    "file.read()"
   ]
  },
  {
   "cell_type": "code",
   "execution_count": null,
   "metadata": {},
   "outputs": [],
   "source": []
  },
  {
   "cell_type": "code",
   "execution_count": null,
   "metadata": {},
   "outputs": [],
   "source": []
  },
  {
   "cell_type": "code",
   "execution_count": 11,
   "metadata": {},
   "outputs": [],
   "source": [
    "# installiert die Library BeautifulSoup – saugt Daten aus html!\n",
    "\n",
    "from bs4 import BeautifulSoup"
   ]
  },
  {
   "cell_type": "code",
   "execution_count": 15,
   "metadata": {},
   "outputs": [
    {
     "data": {
      "text/plain": [
       "<_io.TextIOWrapper name='html-test' mode='r' encoding='UTF-8'>"
      ]
     },
     "execution_count": 15,
     "metadata": {},
     "output_type": "execute_result"
    }
   ],
   "source": [
    "open('html-test', 'r')"
   ]
  },
  {
   "cell_type": "code",
   "execution_count": 13,
   "metadata": {},
   "outputs": [],
   "source": [
    "# r = read, w = write\n",
    "\n",
    "f = open('html-test', 'r').read()"
   ]
  },
  {
   "cell_type": "code",
   "execution_count": 22,
   "metadata": {},
   "outputs": [
    {
     "data": {
      "text/plain": [
       "'<!DOCTYPE html>\\n<html>\\n<title>HTML Tutorial</title>\\n<style>\\ntable {\\n    font-family: arial, sans-serif;\\n    border-collapse: collapse;\\n    width: 100%;\\n}\\n\\ntd, th {\\n    border: 1px solid #dddddd;\\n    text-align: left;\\n    padding: 8px;\\n}\\n\\ntr:nth-child(even) {\\n    background-color: #dddddd;\\n}\\n</style>\\n\\n<body>\\n\\n<h1>This is a heading</h1>\\n<p>This is a paragraph.</p>\\n\\n<ul>\\n  <li>Coffee</li>\\n  <li>Tea</li>\\n  <li>Milk</li>\\n</ul>\\n\\n<table style=\"width:100%\">\\n\\n\\n  <tr>\\n    <th>Firstname</th>\\n    <th>Lastname</th>\\n    <th>Age</th>\\n  </tr>\\n  <tr>\\n    <td>Jill</td>\\n    <td>Smith</td>\\n    <td>50</td>\\n  </tr>\\n  <tr>\\n    <td>Eve</td>\\n    <td>Jackson</td>\\n    <td>94</td>\\n  </tr>\\n</table>\\n\\n</body>\\n</html>\\n'"
      ]
     },
     "execution_count": 22,
     "metadata": {},
     "output_type": "execute_result"
    }
   ],
   "source": [
    "# zeigt f an\n",
    "f"
   ]
  },
  {
   "cell_type": "code",
   "execution_count": 53,
   "metadata": {},
   "outputs": [],
   "source": [
    "#  wenn lxml nicht funktioniert dann html.parser\n",
    "\n",
    "elementlist = BeautifulSoup(f, \"lxml\")"
   ]
  },
  {
   "cell_type": "code",
   "execution_count": 46,
   "metadata": {},
   "outputs": [
    {
     "data": {
      "text/plain": [
       "<li>Coffee</li>"
      ]
     },
     "execution_count": 46,
     "metadata": {},
     "output_type": "execute_result"
    }
   ],
   "source": [
    "elementlist.find('li')"
   ]
  },
  {
   "cell_type": "code",
   "execution_count": 49,
   "metadata": {},
   "outputs": [],
   "source": [
    "# erstellt eine neue Liste mit [] – statt elem kann man andere Bezeichnungen verwenden\n",
    "# append fügt die Element in die Liste ein\n",
    "# .text fügt das Element als Text in die Liste ein\n",
    "\n",
    "lst = []\n",
    "for elem in elementlist.find_all('li'):\n",
    "    lst.append(elem.text)"
   ]
  },
  {
   "cell_type": "code",
   "execution_count": 51,
   "metadata": {},
   "outputs": [
    {
     "data": {
      "text/plain": [
       "['Coffee', 'Tea', 'Milk']"
      ]
     },
     "execution_count": 51,
     "metadata": {},
     "output_type": "execute_result"
    }
   ],
   "source": [
    "# zeigt die neue Liste an\n",
    "\n",
    "lst"
   ]
  },
  {
   "cell_type": "code",
   "execution_count": 52,
   "metadata": {},
   "outputs": [
    {
     "data": {
      "text/plain": [
       "<!DOCTYPE html>\n",
       "<html>\n",
       "<head><title>HTML Tutorial</title>\n",
       "<style>\n",
       "table {\n",
       "    font-family: arial, sans-serif;\n",
       "    border-collapse: collapse;\n",
       "    width: 100%;\n",
       "}\n",
       "\n",
       "td, th {\n",
       "    border: 1px solid #dddddd;\n",
       "    text-align: left;\n",
       "    padding: 8px;\n",
       "}\n",
       "\n",
       "tr:nth-child(even) {\n",
       "    background-color: #dddddd;\n",
       "}\n",
       "</style>\n",
       "</head><body>\n",
       "<h1>This is a heading</h1>\n",
       "<p>This is a paragraph.</p>\n",
       "<ul>\n",
       "<li>Coffee</li>\n",
       "<li>Tea</li>\n",
       "<li>Milk</li>\n",
       "</ul>\n",
       "<table style=\"width:100%\">\n",
       "<tr>\n",
       "<th>Firstname</th>\n",
       "<th>Lastname</th>\n",
       "<th>Age</th>\n",
       "</tr>\n",
       "<tr>\n",
       "<td>Jill</td>\n",
       "<td>Smith</td>\n",
       "<td>50</td>\n",
       "</tr>\n",
       "<tr>\n",
       "<td>Eve</td>\n",
       "<td>Jackson</td>\n",
       "<td>94</td>\n",
       "</tr>\n",
       "</table>\n",
       "</body>\n",
       "</html>"
      ]
     },
     "execution_count": 52,
     "metadata": {},
     "output_type": "execute_result"
    }
   ],
   "source": [
    "# zeigt elementlist an\n",
    "elementlist"
   ]
  },
  {
   "cell_type": "code",
   "execution_count": null,
   "metadata": {},
   "outputs": [],
   "source": []
  }
 ],
 "metadata": {
  "kernelspec": {
   "display_name": "Python 3",
   "language": "python",
   "name": "python3"
  },
  "language_info": {
   "codemirror_mode": {
    "name": "ipython",
    "version": 3
   },
   "file_extension": ".py",
   "mimetype": "text/x-python",
   "name": "python",
   "nbconvert_exporter": "python",
   "pygments_lexer": "ipython3",
   "version": "3.6.6"
  }
 },
 "nbformat": 4,
 "nbformat_minor": 2
}
