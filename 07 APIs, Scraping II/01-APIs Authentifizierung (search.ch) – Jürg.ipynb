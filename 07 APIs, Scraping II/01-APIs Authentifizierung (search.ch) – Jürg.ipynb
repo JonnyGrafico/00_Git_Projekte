{
 "cells": [
  {
   "cell_type": "markdown",
   "metadata": {},
   "source": [
    "# Search.ch API\n",
    "Bevor ihr hier mit der Arbeit beginnt, müsst ihr eine API-Key beantragen. Das geht via [diesem Formular](https://tel.search.ch/api/getkey.html). Ich mag diese API. Denn die Dokumentation ist sehr einfach gehalten. Das ist bei vielen anderen APIs nicht der Fall. Unter diesem Link findet ihr [die Dokumentation](https://tel.search.ch/api/help). Ihr könnt auch ohne Key arbeiten, aber dann ist die Suche begrenzt."
   ]
  },
  {
   "cell_type": "markdown",
   "metadata": {},
   "source": [
    "Unsere Imports"
   ]
  },
  {
   "cell_type": "code",
   "execution_count": 1,
   "metadata": {},
   "outputs": [],
   "source": [
    "import requests\n",
    "import pandas as pd"
   ]
  },
  {
   "cell_type": "code",
   "execution_count": 25,
   "metadata": {},
   "outputs": [],
   "source": [
    "# requests.get('https://tel.search.ch/api/?was=Spital')\n",
    "url = 'https://tel.search.ch/api/?was=Spital'"
   ]
  },
  {
   "cell_type": "code",
   "execution_count": 48,
   "metadata": {},
   "outputs": [
    {
     "data": {
      "text/plain": [
       "'<?xml version=\"1.0\" encoding=\"utf-8\" ?>\\n<feed xml:lang=\"de\" xmlns=\"http://www.w3.org/2005/Atom\" xmlns:openSearch=\"http://a9.com/-/spec/opensearchrss/1.0/\" xmlns:tel=\"http://tel.search.ch/api/spec/result/1.0/\">\\n  <id>https://tel.search.ch/api/82559f00fb7efe9cc15760fa5b3ea5fb</id>\\n  <title type=\"text\">tel.search.ch API Search Results</title>\\n  <generator version=\"1.0\" uri=\"https://tel.search.ch\">tel.search.ch</generator>\\n  <updated>2018-11-26T03:00:00Z</updated>\\n  <link href=\"https://tel.search.ch/result.html?was=Spital+%3Fwo%3DZ%C3%BCrich\" rel=\"alternate\" type=\"text/html\" />\\n  <link href=\"http://tel.search.ch/api/?was=Spital+%3Fwo%3DZ%C3%BCrich\" type=\"application/atom+xml\" rel=\"self\" />\\n  <link href=\"http://tel.search.ch/api/?was=Spital+%3Fwo%3DZ%C3%BCrich&amp;pos=11\" rel=\"next\" type=\"application/atom+xml\" />\\n  <openSearch:totalResults>17</openSearch:totalResults>\\n  <openSearch:startIndex>1</openSearch:startIndex>\\n  <openSearch:itemsPerPage>10</openSearch:itemsPerPage>\\n  <openSearch:Query role=\"request\" searchTerms=\"Spital ?wo=Zürich \" startPage=\"1\"></openSearch:Query>\\n  <openSearch:Image height=\"1\" width=\"1\" type=\"image/gif\">https://www.search.ch/audit/CP/tel/de/api</openSearch:Image>\\n  <entry>\\n    <id>urn:uuid:8a06396124f72652</id>\\n    <updated>2018-11-26T03:00:00Z</updated>\\n    <published>2018-11-26T03:00:00Z</published>\\n    <title type=\"text\">Institut für Anästhesiologie und Intensivmedizin</title>\\n    <content type=\"text\">Institut für Anästhesiologie und Intensivmedizin\\n    Witellikerstrasse 40\\n    8008 Zürich/ZH\\n    *044 387 38 80</content>\\n    <tel:nopromo>*</tel:nopromo>\\n    <author>\\n      <name>tel.search.ch</name>\\n    </author>\\n    <link href=\"https://tel.search.ch/zuerich/witellikerstrasse-40/institut-fuer-anaesthesiologie-und-intensivmedizin\" title=\"Details\" rel=\"alternate\" type=\"text/html\" />\\n    <link href=\"https://tel.search.ch/vcard/Institut-fuer-Anaesthesiologie-und-Intensivmedizin.vcf?key=8a06396124f72652\" type=\"text/x-vcard\" title=\"VCard Download\" rel=\"alternate\" />\\n    <link href=\"https://tel.search.ch/edit/?id=8a06396124f72652\" rel=\"edit\" type=\"text/html\" />\\n  </entry>\\n  <entry>\\n    <id>urn:uuid:87f964c577574e8a</id>\\n    <updated>2018-11-26T03:00:00Z</updated>\\n    <published>2018-11-26T03:00:00Z</published>\\n    <title type=\"text\">Spitex Zürich Limmat, Geschäftsstelle</title>\\n    <content type=\"text\">Spitex Zürich Limmat, Geschäftsstelle\\n    Nordstrasse 20\\n    8006 Zürich/ZH\\n    *058 404 36 36</content>\\n    <tel:nopromo>*</tel:nopromo>\\n    <author>\\n      <name>tel.search.ch</name>\\n    </author>\\n    <link href=\"https://tel.search.ch/zuerich/nordstrasse-20/spitex-zuerich-limmat-geschaeftsstelle\" title=\"Details\" rel=\"alternate\" type=\"text/html\" />\\n    <link href=\"https://tel.search.ch/vcard/Spitex-Zuerich-Limmat-Geschaeftsstelle.vcf?key=87f964c577574e8a\" type=\"text/x-vcard\" title=\"VCard Download\" rel=\"alternate\" />\\n    <link href=\"https://tel.search.ch/edit/?id=87f964c577574e8a\" rel=\"edit\" type=\"text/html\" />\\n  </entry>\\n  <entry>\\n    <id>urn:uuid:73c6bfa26f24f664</id>\\n    <updated>2018-11-26T03:00:00Z</updated>\\n    <published>2018-11-26T03:00:00Z</published>\\n    <title type=\"text\">angioclinic® Venenzentrum Zürich</title>\\n    <content type=\"text\">angioclinic® Venenzentrum Zürich\\n    Dr.med. Ragg Johann C.\\n    Seestrasse 455b\\n    8038 Zürich/ZH\\n    *044 482 30 30</content>\\n    <tel:nopromo>*</tel:nopromo>\\n    <author>\\n      <name>tel.search.ch</name>\\n    </author>\\n    <link href=\"https://tel.search.ch/zuerich/seestrasse-455b/angioclinic-r-venenzentrum-zuerich-2\" title=\"Details\" rel=\"alternate\" type=\"text/html\" />\\n    <link href=\"https://tel.search.ch/vcard/angioclinicR-Venenzentrum-Zuerich.vcf?key=73c6bfa26f24f664\" type=\"text/x-vcard\" title=\"VCard Download\" rel=\"alternate\" />\\n    <link href=\"https://tel.search.ch/edit/?id=73c6bfa26f24f664\" rel=\"edit\" type=\"text/html\" />\\n  </entry>\\n  <entry>\\n    <id>urn:uuid:0b131f053302d514</id>\\n    <updated>2018-11-26T03:00:00Z</updated>\\n    <published>2018-11-26T03:00:00Z</published>\\n    <title type=\"text\">Perle Zürich - Begleitung und Betreuung im Alltag</title>\\n    <content type=\"text\">Perle Zürich - Begleitung und Betreuung im Alltag\\n    Pro Senectute Kanton Zürich\\n    Forchstrasse 145\\n    8032 Zürich/ZH\\n    *058 451 51 51</content>\\n    <tel:nopromo>*</tel:nopromo>\\n    <author>\\n      <name>tel.search.ch</name>\\n    </author>\\n    <link href=\"https://tel.search.ch/zuerich/forchstrasse-145/perle-zuerich-begleitung-und-betreuung-im-alltag-2\" title=\"Details\" rel=\"alternate\" type=\"text/html\" />\\n    <link href=\"https://tel.search.ch/vcard/Perle-Zuerich---Begleitung-und-Betreuung-im-Alltag.vcf?key=0b131f053302d514\" type=\"text/x-vcard\" title=\"VCard Download\" rel=\"alternate\" />\\n    <link href=\"https://tel.search.ch/edit/?id=0b131f053302d514\" rel=\"edit\" type=\"text/html\" />\\n  </entry>\\n  <entry>\\n    <id>urn:uuid:265383283e5fe26c</id>\\n    <updated>2018-11-26T03:00:00Z</updated>\\n    <published>2018-11-26T03:00:00Z</published>\\n    <title type=\"text\">Bénédict-Schule Weiterbildung Zürich</title>\\n    <content type=\"text\">Bénédict-Schule Weiterbildung Zürich\\n    Sprachschule Handelsschule Kaderschule Medizin Gesundheit Informatik Seminare\\n    Sprachschule Handelsschule Kaderschule Medizin Gesundheit Informatik Seminare\\n    Militärstrasse 106\\n    8004 Zürich/ZH\\n    *044 242 12 60</content>\\n    <tel:nopromo>*</tel:nopromo>\\n    <author>\\n      <name>tel.search.ch</name>\\n    </author>\\n    <link href=\"https://tel.search.ch/zuerich/militaerstrasse-106/benedict-schule-weiterbildung-zuerich\" title=\"Details\" rel=\"alternate\" type=\"text/html\" />\\n    <link href=\"https://tel.search.ch/vcard/Benedict-Schule-Weiterbildung-Zuerich.vcf?key=265383283e5fe26c\" type=\"text/x-vcard\" title=\"VCard Download\" rel=\"alternate\" />\\n    <link href=\"https://tel.search.ch/edit/?id=265383283e5fe26c\" rel=\"edit\" type=\"text/html\" />\\n  </entry>\\n  <entry>\\n    <id>urn:uuid:1fc801edbfedcc89</id>\\n    <updated>2018-11-26T03:00:00Z</updated>\\n    <published>2018-11-26T03:00:00Z</published>\\n    <title type=\"text\">Semle Peter</title>\\n    <content type=\"text\">Semle Peter\\n    Dr. med. Facharzt FMH Gynäkologie u. Geburtshilfe Fachärztezentrum Prisma Spital Pflegi-Neumünster; Dr med. Facharzt FMH\\n    Trichtenhauser Strasse 12\\n    8125 Zollikerberg/ZH\\n    *044 392 11 31</content>\\n    <tel:nopromo>*</tel:nopromo>\\n    <author>\\n      <name>tel.search.ch</name>\\n    </author>\\n    <link href=\"https://tel.search.ch/zollikerberg/trichtenhauser-strasse-12/peter-semle-3\" title=\"Details\" rel=\"alternate\" type=\"text/html\" />\\n    <link href=\"https://tel.search.ch/vcard/Semle.vcf?key=1fc801edbfedcc89\" type=\"text/x-vcard\" title=\"VCard Download\" rel=\"alternate\" />\\n    <link href=\"https://tel.search.ch/edit/?id=1fc801edbfedcc89\" rel=\"edit\" type=\"text/html\" />\\n  </entry>\\n  <entry>\\n    <id>urn:uuid:8650784d25a33a2f</id>\\n    <updated>2018-11-26T03:00:00Z</updated>\\n    <published>2018-11-26T03:00:00Z</published>\\n    <title type=\"text\">Bénédict-Schule Luzern AG</title>\\n    <content type=\"text\">Bénédict-Schule Luzern AG\\n    Sprachschule Handelsschule Kaderschule Medizin Gesundheit Informatik Seminare\\n    Inseliquai 12B\\n    6005 Luzern/LU\\n    *041 227 01 01</content>\\n    <tel:nopromo>*</tel:nopromo>\\n    <author>\\n      <name>tel.search.ch</name>\\n    </author>\\n    <link href=\"https://tel.search.ch/luzern/inseliquai-12b/benedict-schule-luzern-ag-3\" title=\"Details\" rel=\"alternate\" type=\"text/html\" />\\n    <link href=\"https://tel.search.ch/vcard/Benedict-Schule-Luzern-AG.vcf?key=8650784d25a33a2f\" type=\"text/x-vcard\" title=\"VCard Download\" rel=\"alternate\" />\\n    <link href=\"https://tel.search.ch/edit/?id=8650784d25a33a2f\" rel=\"edit\" type=\"text/html\" />\\n  </entry>\\n  <entry>\\n    <id>urn:uuid:6716adb5c569a4a7</id>\\n    <updated>2018-11-26T03:00:00Z</updated>\\n    <published>2018-11-26T03:00:00Z</published>\\n    <title type=\"text\">Zentrum Albisrieden</title>\\n    <content type=\"text\">Zentrum Albisrieden\\n    Albisriederstrasse 203a\\n    8047 Zürich/ZH\\n    *044 554 56 56</content>\\n    <tel:nopromo>*</tel:nopromo>\\n    <author>\\n      <name>tel.search.ch</name>\\n    </author>\\n    <link href=\"https://tel.search.ch/zuerich/albisriederstrasse-203a/zentrum-albisrieden-2\" title=\"Details\" rel=\"alternate\" type=\"text/html\" />\\n    <link href=\"https://tel.search.ch/vcard/Zentrum-Albisrieden.vcf?key=6716adb5c569a4a7\" type=\"text/x-vcard\" title=\"VCard Download\" rel=\"alternate\" />\\n    <link href=\"https://tel.search.ch/edit/?id=6716adb5c569a4a7\" rel=\"edit\" type=\"text/html\" />\\n  </entry>\\n  <entry>\\n    <id>urn:uuid:331c288c07eae813</id>\\n    <updated>2018-11-26T03:00:00Z</updated>\\n    <published>2018-11-26T03:00:00Z</published>\\n    <title type=\"text\">Perle Pfannenstiel Begleitung und Betreuung im Alltag, Spitex</title>\\n    <content type=\"text\">Perle Pfannenstiel Begleitung und Betreuung im Alltag, Spitex\\n    Pro Senectute Kanton Zürich\\n    Dorfstrasse 78\\n    8706 Meilen/ZH\\n    *058 451 53 22</content>\\n    <tel:nopromo>*</tel:nopromo>\\n    <author>\\n      <name>tel.search.ch</name>\\n    </author>\\n    <link href=\"https://tel.search.ch/meilen/dorfstrasse-78/perle-pfannenstiel-begleitung-und-betreuung-im-alltag-spitex\" title=\"Details\" rel=\"alternate\" type=\"text/html\" />\\n    <link href=\"https://tel.search.ch/vcard/Perle-Pfannenstiel-Begleitung-und-Betreuung-im-Alltag-Spitex.vcf?key=331c288c07eae813\" type=\"text/x-vcard\" title=\"VCard Download\" rel=\"alternate\" />\\n    <link href=\"https://tel.search.ch/edit/?id=331c288c07eae813\" rel=\"edit\" type=\"text/html\" />\\n  </entry>\\n  <entry>\\n    <id>urn:uuid:36183e490c07cfa8</id>\\n    <updated>2018-11-26T03:00:00Z</updated>\\n    <published>2018-11-26T03:00:00Z</published>\\n    <title type=\"text\">Perle Winterthur - Begleitung und Betreuung im Alltag, Spitex</title>\\n    <content type=\"text\">Perle Winterthur - Begleitung und Betreuung im Alltag, Spitex\\n    Pro Senectute Kanton Zürich\\n    Lagerhausstrasse 3\\n    8400 Winterthur/ZH\\n    *058 451 54 94</content>\\n    <tel:nopromo>*</tel:nopromo>\\n    <author>\\n      <name>tel.search.ch</name>\\n    </author>\\n    <link href=\"https://tel.search.ch/winterthur/lagerhausstrasse-3/perle-winterthur-begleitung-und-betreuung-im-alltag-spitex\" title=\"Details\" rel=\"alternate\" type=\"text/html\" />\\n    <link href=\"https://tel.search.ch/vcard/Perle-Winterthur---Begleitung-und-Betreuung-im-Alltag-Spitex.vcf?key=36183e490c07cfa8\" type=\"text/x-vcard\" title=\"VCard Download\" rel=\"alternate\" />\\n    <link href=\"https://tel.search.ch/edit/?id=36183e490c07cfa8\" rel=\"edit\" type=\"text/html\" />\\n  </entry>\\n</feed>\\n'"
      ]
     },
     "execution_count": 48,
     "metadata": {},
     "output_type": "execute_result"
    }
   ],
   "source": [
    "response = requests.get('https://tel.search.ch/api/?was=Spital+?wo=Zürich')\n",
    "response.text"
   ]
  },
  {
   "cell_type": "code",
   "execution_count": 49,
   "metadata": {},
   "outputs": [
    {
     "data": {
      "text/plain": [
       "<Response [200]>"
      ]
     },
     "execution_count": 49,
     "metadata": {},
     "output_type": "execute_result"
    }
   ],
   "source": [
    "r"
   ]
  },
  {
   "cell_type": "code",
   "execution_count": 55,
   "metadata": {},
   "outputs": [
    {
     "ename": "AttributeError",
     "evalue": "'str' object has no attribute 'text'",
     "output_type": "error",
     "traceback": [
      "\u001b[0;31m---------------------------------------------------------------------------\u001b[0m",
      "\u001b[0;31mAttributeError\u001b[0m                            Traceback (most recent call last)",
      "\u001b[0;32m<ipython-input-55-4f3b7ad08aca>\u001b[0m in \u001b[0;36m<module>\u001b[0;34m\u001b[0m\n\u001b[1;32m      1\u001b[0m \u001b[0murl1\u001b[0m \u001b[0;34m=\u001b[0m \u001b[0;34m'/feed/entry/author/name'\u001b[0m\u001b[0;34m\u001b[0m\u001b[0m\n\u001b[0;32m----> 2\u001b[0;31m \u001b[0murl1\u001b[0m\u001b[0;34m.\u001b[0m\u001b[0mtext\u001b[0m\u001b[0;34m\u001b[0m\u001b[0m\n\u001b[0m",
      "\u001b[0;31mAttributeError\u001b[0m: 'str' object has no attribute 'text'"
     ]
    }
   ],
   "source": [
    "url1 = '/feed/entry/author/name'\n",
    "url1.text"
   ]
  },
  {
   "cell_type": "code",
   "execution_count": 54,
   "metadata": {},
   "outputs": [],
   "source": [
    "url2 = 'city'"
   ]
  },
  {
   "cell_type": "code",
   "execution_count": 38,
   "metadata": {},
   "outputs": [
    {
     "ename": "MissingSchema",
     "evalue": "Invalid URL 'namecity': No schema supplied. Perhaps you meant http://namecity?",
     "output_type": "error",
     "traceback": [
      "\u001b[0;31m---------------------------------------------------------------------------\u001b[0m",
      "\u001b[0;31mMissingSchema\u001b[0m                             Traceback (most recent call last)",
      "\u001b[0;32m<ipython-input-38-f4dd85f65192>\u001b[0m in \u001b[0;36m<module>\u001b[0;34m\u001b[0m\n\u001b[0;32m----> 1\u001b[0;31m \u001b[0mresponse\u001b[0m \u001b[0;34m=\u001b[0m \u001b[0mrequests\u001b[0m\u001b[0;34m.\u001b[0m\u001b[0mget\u001b[0m\u001b[0;34m(\u001b[0m\u001b[0murl1\u001b[0m\u001b[0;34m+\u001b[0m\u001b[0murl2\u001b[0m\u001b[0;34m)\u001b[0m\u001b[0;34m\u001b[0m\u001b[0m\n\u001b[0m\u001b[1;32m      2\u001b[0m \u001b[0mresponse\u001b[0m\u001b[0;34m.\u001b[0m\u001b[0mtext\u001b[0m\u001b[0;34m\u001b[0m\u001b[0m\n",
      "\u001b[0;32m~/.virtualenvs/masterEV/lib/python3.7/site-packages/requests/api.py\u001b[0m in \u001b[0;36mget\u001b[0;34m(url, params, **kwargs)\u001b[0m\n\u001b[1;32m     73\u001b[0m \u001b[0;34m\u001b[0m\u001b[0m\n\u001b[1;32m     74\u001b[0m     \u001b[0mkwargs\u001b[0m\u001b[0;34m.\u001b[0m\u001b[0msetdefault\u001b[0m\u001b[0;34m(\u001b[0m\u001b[0;34m'allow_redirects'\u001b[0m\u001b[0;34m,\u001b[0m \u001b[0;32mTrue\u001b[0m\u001b[0;34m)\u001b[0m\u001b[0;34m\u001b[0m\u001b[0m\n\u001b[0;32m---> 75\u001b[0;31m     \u001b[0;32mreturn\u001b[0m \u001b[0mrequest\u001b[0m\u001b[0;34m(\u001b[0m\u001b[0;34m'get'\u001b[0m\u001b[0;34m,\u001b[0m \u001b[0murl\u001b[0m\u001b[0;34m,\u001b[0m \u001b[0mparams\u001b[0m\u001b[0;34m=\u001b[0m\u001b[0mparams\u001b[0m\u001b[0;34m,\u001b[0m \u001b[0;34m**\u001b[0m\u001b[0mkwargs\u001b[0m\u001b[0;34m)\u001b[0m\u001b[0;34m\u001b[0m\u001b[0m\n\u001b[0m\u001b[1;32m     76\u001b[0m \u001b[0;34m\u001b[0m\u001b[0m\n\u001b[1;32m     77\u001b[0m \u001b[0;34m\u001b[0m\u001b[0m\n",
      "\u001b[0;32m~/.virtualenvs/masterEV/lib/python3.7/site-packages/requests/api.py\u001b[0m in \u001b[0;36mrequest\u001b[0;34m(method, url, **kwargs)\u001b[0m\n\u001b[1;32m     58\u001b[0m     \u001b[0;31m# cases, and look like a memory leak in others.\u001b[0m\u001b[0;34m\u001b[0m\u001b[0;34m\u001b[0m\u001b[0m\n\u001b[1;32m     59\u001b[0m     \u001b[0;32mwith\u001b[0m \u001b[0msessions\u001b[0m\u001b[0;34m.\u001b[0m\u001b[0mSession\u001b[0m\u001b[0;34m(\u001b[0m\u001b[0;34m)\u001b[0m \u001b[0;32mas\u001b[0m \u001b[0msession\u001b[0m\u001b[0;34m:\u001b[0m\u001b[0;34m\u001b[0m\u001b[0m\n\u001b[0;32m---> 60\u001b[0;31m         \u001b[0;32mreturn\u001b[0m \u001b[0msession\u001b[0m\u001b[0;34m.\u001b[0m\u001b[0mrequest\u001b[0m\u001b[0;34m(\u001b[0m\u001b[0mmethod\u001b[0m\u001b[0;34m=\u001b[0m\u001b[0mmethod\u001b[0m\u001b[0;34m,\u001b[0m \u001b[0murl\u001b[0m\u001b[0;34m=\u001b[0m\u001b[0murl\u001b[0m\u001b[0;34m,\u001b[0m \u001b[0;34m**\u001b[0m\u001b[0mkwargs\u001b[0m\u001b[0;34m)\u001b[0m\u001b[0;34m\u001b[0m\u001b[0m\n\u001b[0m\u001b[1;32m     61\u001b[0m \u001b[0;34m\u001b[0m\u001b[0m\n\u001b[1;32m     62\u001b[0m \u001b[0;34m\u001b[0m\u001b[0m\n",
      "\u001b[0;32m~/.virtualenvs/masterEV/lib/python3.7/site-packages/requests/sessions.py\u001b[0m in \u001b[0;36mrequest\u001b[0;34m(self, method, url, params, data, headers, cookies, files, auth, timeout, allow_redirects, proxies, hooks, stream, verify, cert, json)\u001b[0m\n\u001b[1;32m    508\u001b[0m             \u001b[0mhooks\u001b[0m\u001b[0;34m=\u001b[0m\u001b[0mhooks\u001b[0m\u001b[0;34m,\u001b[0m\u001b[0;34m\u001b[0m\u001b[0m\n\u001b[1;32m    509\u001b[0m         )\n\u001b[0;32m--> 510\u001b[0;31m         \u001b[0mprep\u001b[0m \u001b[0;34m=\u001b[0m \u001b[0mself\u001b[0m\u001b[0;34m.\u001b[0m\u001b[0mprepare_request\u001b[0m\u001b[0;34m(\u001b[0m\u001b[0mreq\u001b[0m\u001b[0;34m)\u001b[0m\u001b[0;34m\u001b[0m\u001b[0m\n\u001b[0m\u001b[1;32m    511\u001b[0m \u001b[0;34m\u001b[0m\u001b[0m\n\u001b[1;32m    512\u001b[0m         \u001b[0mproxies\u001b[0m \u001b[0;34m=\u001b[0m \u001b[0mproxies\u001b[0m \u001b[0;32mor\u001b[0m \u001b[0;34m{\u001b[0m\u001b[0;34m}\u001b[0m\u001b[0;34m\u001b[0m\u001b[0m\n",
      "\u001b[0;32m~/.virtualenvs/masterEV/lib/python3.7/site-packages/requests/sessions.py\u001b[0m in \u001b[0;36mprepare_request\u001b[0;34m(self, request)\u001b[0m\n\u001b[1;32m    451\u001b[0m             \u001b[0mauth\u001b[0m\u001b[0;34m=\u001b[0m\u001b[0mmerge_setting\u001b[0m\u001b[0;34m(\u001b[0m\u001b[0mauth\u001b[0m\u001b[0;34m,\u001b[0m \u001b[0mself\u001b[0m\u001b[0;34m.\u001b[0m\u001b[0mauth\u001b[0m\u001b[0;34m)\u001b[0m\u001b[0;34m,\u001b[0m\u001b[0;34m\u001b[0m\u001b[0m\n\u001b[1;32m    452\u001b[0m             \u001b[0mcookies\u001b[0m\u001b[0;34m=\u001b[0m\u001b[0mmerged_cookies\u001b[0m\u001b[0;34m,\u001b[0m\u001b[0;34m\u001b[0m\u001b[0m\n\u001b[0;32m--> 453\u001b[0;31m             \u001b[0mhooks\u001b[0m\u001b[0;34m=\u001b[0m\u001b[0mmerge_hooks\u001b[0m\u001b[0;34m(\u001b[0m\u001b[0mrequest\u001b[0m\u001b[0;34m.\u001b[0m\u001b[0mhooks\u001b[0m\u001b[0;34m,\u001b[0m \u001b[0mself\u001b[0m\u001b[0;34m.\u001b[0m\u001b[0mhooks\u001b[0m\u001b[0;34m)\u001b[0m\u001b[0;34m,\u001b[0m\u001b[0;34m\u001b[0m\u001b[0m\n\u001b[0m\u001b[1;32m    454\u001b[0m         )\n\u001b[1;32m    455\u001b[0m         \u001b[0;32mreturn\u001b[0m \u001b[0mp\u001b[0m\u001b[0;34m\u001b[0m\u001b[0m\n",
      "\u001b[0;32m~/.virtualenvs/masterEV/lib/python3.7/site-packages/requests/models.py\u001b[0m in \u001b[0;36mprepare\u001b[0;34m(self, method, url, headers, files, data, params, auth, cookies, hooks, json)\u001b[0m\n\u001b[1;32m    311\u001b[0m \u001b[0;34m\u001b[0m\u001b[0m\n\u001b[1;32m    312\u001b[0m         \u001b[0mself\u001b[0m\u001b[0;34m.\u001b[0m\u001b[0mprepare_method\u001b[0m\u001b[0;34m(\u001b[0m\u001b[0mmethod\u001b[0m\u001b[0;34m)\u001b[0m\u001b[0;34m\u001b[0m\u001b[0m\n\u001b[0;32m--> 313\u001b[0;31m         \u001b[0mself\u001b[0m\u001b[0;34m.\u001b[0m\u001b[0mprepare_url\u001b[0m\u001b[0;34m(\u001b[0m\u001b[0murl\u001b[0m\u001b[0;34m,\u001b[0m \u001b[0mparams\u001b[0m\u001b[0;34m)\u001b[0m\u001b[0;34m\u001b[0m\u001b[0m\n\u001b[0m\u001b[1;32m    314\u001b[0m         \u001b[0mself\u001b[0m\u001b[0;34m.\u001b[0m\u001b[0mprepare_headers\u001b[0m\u001b[0;34m(\u001b[0m\u001b[0mheaders\u001b[0m\u001b[0;34m)\u001b[0m\u001b[0;34m\u001b[0m\u001b[0m\n\u001b[1;32m    315\u001b[0m         \u001b[0mself\u001b[0m\u001b[0;34m.\u001b[0m\u001b[0mprepare_cookies\u001b[0m\u001b[0;34m(\u001b[0m\u001b[0mcookies\u001b[0m\u001b[0;34m)\u001b[0m\u001b[0;34m\u001b[0m\u001b[0m\n",
      "\u001b[0;32m~/.virtualenvs/masterEV/lib/python3.7/site-packages/requests/models.py\u001b[0m in \u001b[0;36mprepare_url\u001b[0;34m(self, url, params)\u001b[0m\n\u001b[1;32m    385\u001b[0m             \u001b[0merror\u001b[0m \u001b[0;34m=\u001b[0m \u001b[0merror\u001b[0m\u001b[0;34m.\u001b[0m\u001b[0mformat\u001b[0m\u001b[0;34m(\u001b[0m\u001b[0mto_native_string\u001b[0m\u001b[0;34m(\u001b[0m\u001b[0murl\u001b[0m\u001b[0;34m,\u001b[0m \u001b[0;34m'utf8'\u001b[0m\u001b[0;34m)\u001b[0m\u001b[0;34m)\u001b[0m\u001b[0;34m\u001b[0m\u001b[0m\n\u001b[1;32m    386\u001b[0m \u001b[0;34m\u001b[0m\u001b[0m\n\u001b[0;32m--> 387\u001b[0;31m             \u001b[0;32mraise\u001b[0m \u001b[0mMissingSchema\u001b[0m\u001b[0;34m(\u001b[0m\u001b[0merror\u001b[0m\u001b[0;34m)\u001b[0m\u001b[0;34m\u001b[0m\u001b[0m\n\u001b[0m\u001b[1;32m    388\u001b[0m \u001b[0;34m\u001b[0m\u001b[0m\n\u001b[1;32m    389\u001b[0m         \u001b[0;32mif\u001b[0m \u001b[0;32mnot\u001b[0m \u001b[0mhost\u001b[0m\u001b[0;34m:\u001b[0m\u001b[0;34m\u001b[0m\u001b[0m\n",
      "\u001b[0;31mMissingSchema\u001b[0m: Invalid URL 'namecity': No schema supplied. Perhaps you meant http://namecity?"
     ]
    }
   ],
   "source": [
    "response = requests.get(url1+url2)\n",
    "response.text"
   ]
  },
  {
   "cell_type": "code",
   "execution_count": 32,
   "metadata": {},
   "outputs": [
    {
     "ename": "JSONDecodeError",
     "evalue": "Expecting value: line 1 column 1 (char 0)",
     "output_type": "error",
     "traceback": [
      "\u001b[0;31m---------------------------------------------------------------------------\u001b[0m",
      "\u001b[0;31mJSONDecodeError\u001b[0m                           Traceback (most recent call last)",
      "\u001b[0;32m<ipython-input-32-34c975fa6377>\u001b[0m in \u001b[0;36m<module>\u001b[0;34m\u001b[0m\n\u001b[0;32m----> 1\u001b[0;31m \u001b[0mresponse\u001b[0m\u001b[0;34m.\u001b[0m\u001b[0mjson\u001b[0m\u001b[0;34m(\u001b[0m\u001b[0;34m)\u001b[0m\u001b[0;34m\u001b[0m\u001b[0m\n\u001b[0m",
      "\u001b[0;32m~/.virtualenvs/masterEV/lib/python3.7/site-packages/requests/models.py\u001b[0m in \u001b[0;36mjson\u001b[0;34m(self, **kwargs)\u001b[0m\n\u001b[1;32m    895\u001b[0m                     \u001b[0;31m# used.\u001b[0m\u001b[0;34m\u001b[0m\u001b[0;34m\u001b[0m\u001b[0m\n\u001b[1;32m    896\u001b[0m                     \u001b[0;32mpass\u001b[0m\u001b[0;34m\u001b[0m\u001b[0m\n\u001b[0;32m--> 897\u001b[0;31m         \u001b[0;32mreturn\u001b[0m \u001b[0mcomplexjson\u001b[0m\u001b[0;34m.\u001b[0m\u001b[0mloads\u001b[0m\u001b[0;34m(\u001b[0m\u001b[0mself\u001b[0m\u001b[0;34m.\u001b[0m\u001b[0mtext\u001b[0m\u001b[0;34m,\u001b[0m \u001b[0;34m**\u001b[0m\u001b[0mkwargs\u001b[0m\u001b[0;34m)\u001b[0m\u001b[0;34m\u001b[0m\u001b[0m\n\u001b[0m\u001b[1;32m    898\u001b[0m \u001b[0;34m\u001b[0m\u001b[0m\n\u001b[1;32m    899\u001b[0m     \u001b[0;34m@\u001b[0m\u001b[0mproperty\u001b[0m\u001b[0;34m\u001b[0m\u001b[0m\n",
      "\u001b[0;32m/Library/Frameworks/Python.framework/Versions/3.7/lib/python3.7/json/__init__.py\u001b[0m in \u001b[0;36mloads\u001b[0;34m(s, encoding, cls, object_hook, parse_float, parse_int, parse_constant, object_pairs_hook, **kw)\u001b[0m\n\u001b[1;32m    346\u001b[0m             \u001b[0mparse_int\u001b[0m \u001b[0;32mis\u001b[0m \u001b[0;32mNone\u001b[0m \u001b[0;32mand\u001b[0m \u001b[0mparse_float\u001b[0m \u001b[0;32mis\u001b[0m \u001b[0;32mNone\u001b[0m \u001b[0;32mand\u001b[0m\u001b[0;34m\u001b[0m\u001b[0m\n\u001b[1;32m    347\u001b[0m             parse_constant is None and object_pairs_hook is None and not kw):\n\u001b[0;32m--> 348\u001b[0;31m         \u001b[0;32mreturn\u001b[0m \u001b[0m_default_decoder\u001b[0m\u001b[0;34m.\u001b[0m\u001b[0mdecode\u001b[0m\u001b[0;34m(\u001b[0m\u001b[0ms\u001b[0m\u001b[0;34m)\u001b[0m\u001b[0;34m\u001b[0m\u001b[0m\n\u001b[0m\u001b[1;32m    349\u001b[0m     \u001b[0;32mif\u001b[0m \u001b[0mcls\u001b[0m \u001b[0;32mis\u001b[0m \u001b[0;32mNone\u001b[0m\u001b[0;34m:\u001b[0m\u001b[0;34m\u001b[0m\u001b[0m\n\u001b[1;32m    350\u001b[0m         \u001b[0mcls\u001b[0m \u001b[0;34m=\u001b[0m \u001b[0mJSONDecoder\u001b[0m\u001b[0;34m\u001b[0m\u001b[0m\n",
      "\u001b[0;32m/Library/Frameworks/Python.framework/Versions/3.7/lib/python3.7/json/decoder.py\u001b[0m in \u001b[0;36mdecode\u001b[0;34m(self, s, _w)\u001b[0m\n\u001b[1;32m    335\u001b[0m \u001b[0;34m\u001b[0m\u001b[0m\n\u001b[1;32m    336\u001b[0m         \"\"\"\n\u001b[0;32m--> 337\u001b[0;31m         \u001b[0mobj\u001b[0m\u001b[0;34m,\u001b[0m \u001b[0mend\u001b[0m \u001b[0;34m=\u001b[0m \u001b[0mself\u001b[0m\u001b[0;34m.\u001b[0m\u001b[0mraw_decode\u001b[0m\u001b[0;34m(\u001b[0m\u001b[0ms\u001b[0m\u001b[0;34m,\u001b[0m \u001b[0midx\u001b[0m\u001b[0;34m=\u001b[0m\u001b[0m_w\u001b[0m\u001b[0;34m(\u001b[0m\u001b[0ms\u001b[0m\u001b[0;34m,\u001b[0m \u001b[0;36m0\u001b[0m\u001b[0;34m)\u001b[0m\u001b[0;34m.\u001b[0m\u001b[0mend\u001b[0m\u001b[0;34m(\u001b[0m\u001b[0;34m)\u001b[0m\u001b[0;34m)\u001b[0m\u001b[0;34m\u001b[0m\u001b[0m\n\u001b[0m\u001b[1;32m    338\u001b[0m         \u001b[0mend\u001b[0m \u001b[0;34m=\u001b[0m \u001b[0m_w\u001b[0m\u001b[0;34m(\u001b[0m\u001b[0ms\u001b[0m\u001b[0;34m,\u001b[0m \u001b[0mend\u001b[0m\u001b[0;34m)\u001b[0m\u001b[0;34m.\u001b[0m\u001b[0mend\u001b[0m\u001b[0;34m(\u001b[0m\u001b[0;34m)\u001b[0m\u001b[0;34m\u001b[0m\u001b[0m\n\u001b[1;32m    339\u001b[0m         \u001b[0;32mif\u001b[0m \u001b[0mend\u001b[0m \u001b[0;34m!=\u001b[0m \u001b[0mlen\u001b[0m\u001b[0;34m(\u001b[0m\u001b[0ms\u001b[0m\u001b[0;34m)\u001b[0m\u001b[0;34m:\u001b[0m\u001b[0;34m\u001b[0m\u001b[0m\n",
      "\u001b[0;32m/Library/Frameworks/Python.framework/Versions/3.7/lib/python3.7/json/decoder.py\u001b[0m in \u001b[0;36mraw_decode\u001b[0;34m(self, s, idx)\u001b[0m\n\u001b[1;32m    353\u001b[0m             \u001b[0mobj\u001b[0m\u001b[0;34m,\u001b[0m \u001b[0mend\u001b[0m \u001b[0;34m=\u001b[0m \u001b[0mself\u001b[0m\u001b[0;34m.\u001b[0m\u001b[0mscan_once\u001b[0m\u001b[0;34m(\u001b[0m\u001b[0ms\u001b[0m\u001b[0;34m,\u001b[0m \u001b[0midx\u001b[0m\u001b[0;34m)\u001b[0m\u001b[0;34m\u001b[0m\u001b[0m\n\u001b[1;32m    354\u001b[0m         \u001b[0;32mexcept\u001b[0m \u001b[0mStopIteration\u001b[0m \u001b[0;32mas\u001b[0m \u001b[0merr\u001b[0m\u001b[0;34m:\u001b[0m\u001b[0;34m\u001b[0m\u001b[0m\n\u001b[0;32m--> 355\u001b[0;31m             \u001b[0;32mraise\u001b[0m \u001b[0mJSONDecodeError\u001b[0m\u001b[0;34m(\u001b[0m\u001b[0;34m\"Expecting value\"\u001b[0m\u001b[0;34m,\u001b[0m \u001b[0ms\u001b[0m\u001b[0;34m,\u001b[0m \u001b[0merr\u001b[0m\u001b[0;34m.\u001b[0m\u001b[0mvalue\u001b[0m\u001b[0;34m)\u001b[0m \u001b[0;32mfrom\u001b[0m \u001b[0;32mNone\u001b[0m\u001b[0;34m\u001b[0m\u001b[0m\n\u001b[0m\u001b[1;32m    356\u001b[0m         \u001b[0;32mreturn\u001b[0m \u001b[0mobj\u001b[0m\u001b[0;34m,\u001b[0m \u001b[0mend\u001b[0m\u001b[0;34m\u001b[0m\u001b[0m\n",
      "\u001b[0;31mJSONDecodeError\u001b[0m: Expecting value: line 1 column 1 (char 0)"
     ]
    }
   ],
   "source": [
    "response.json()"
   ]
  },
  {
   "cell_type": "code",
   "execution_count": null,
   "metadata": {},
   "outputs": [],
   "source": []
  }
 ],
 "metadata": {
  "kernelspec": {
   "display_name": "Python 3",
   "language": "python",
   "name": "python3"
  },
  "language_info": {
   "codemirror_mode": {
    "name": "ipython",
    "version": 3
   },
   "file_extension": ".py",
   "mimetype": "text/x-python",
   "name": "python",
   "nbconvert_exporter": "python",
   "pygments_lexer": "ipython3",
   "version": "3.7.0"
  }
 },
 "nbformat": 4,
 "nbformat_minor": 2
}
